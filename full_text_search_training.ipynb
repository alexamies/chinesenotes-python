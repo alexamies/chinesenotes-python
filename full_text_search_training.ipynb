{
  "nbformat": 4,
  "nbformat_minor": 0,
  "metadata": {
    "colab": {
      "name": "querying_cnotes.ipynb",
      "provenance": [],
      "collapsed_sections": [],
      "include_colab_link": true
    },
    "kernelspec": {
      "name": "python3",
      "display_name": "Python 3"
    }
  },
  "cells": [
    {
      "cell_type": "markdown",
      "metadata": {
        "id": "view-in-github",
        "colab_type": "text"
      },
      "source": [
        "<a href=\"https://colab.research.google.com/github/alexamies/chinesenotes-python/blob/master/full_text_search_training.ipynb\" target=\"_parent\"><img src=\"https://colab.research.google.com/assets/colab-badge.svg\" alt=\"Open In Colab\"/></a>"
      ]
    },
    {
      "metadata": {
        "id": "9GQtWkq5-6-B"
      },
      "cell_type": "markdown",
      "source": [
        "# Full Text Search Training\n",
        "Demonstrates querying the Chinese Notes corpus based on titles, word frequency, and bigram frequency."
      ]
    },
    {
      "metadata": {
        "id": "XyOMzCnP_rmA"
      },
      "cell_type": "markdown",
      "source": [
        "## Setup\n",
        "Common imports"
      ]
    },
    {
      "metadata": {
        "id": "FByqNkIS_Lfd"
      },
      "cell_type": "code",
      "source": [
        "import numpy as np\n",
        "import pandas as pd\n",
        "import matplotlib.pyplot as plt"
      ],
      "execution_count": 1,
      "outputs": []
    },
    {
      "metadata": {
        "id": "fR36aLE7AkKm"
      },
      "cell_type": "markdown",
      "source": [
        "## Vector Space Model\n",
        "This section demonstrates how to compute the values for BM25, which is a measure of vector space similarity. BM25 is regarded as one of the best models for document similarity (Robertson and Zaragoza 2009, p. 333). The BM25 formula is also explained by Zhai and Massung (2016, loc. 2423). First load the \n",
        "document and index data into BigQuery using the instructions in the \n",
        "[index/README.md](https://github.com/alexamies/chinesenotes.com/blob/master/index/README.md)\n",
        "file."
      ]
    },
    {
      "metadata": {
        "id": "OFjJ3fls_3Pk",
        "colab": {
          "base_uri": "https://localhost:8080/"
        },
        "outputId": "88cc1284-a0e3-4610-ca08-7fbabaf48023"
      },
      "cell_type": "code",
      "source": [
        "project_id = \"YOUR PROJECT ID\"\n",
        "!gcloud config set project {project_id}\n",
        "\n",
        "import os\n",
        "os.environ['GOOGLE_CLOUD_PROJECT'] = project_id\n",
        "\n",
        "from google.colab import auth\n",
        "auth.authenticate_user()\n"
      ],
      "execution_count": 2,
      "outputs": [
        {
          "output_type": "stream",
          "name": "stdout",
          "text": [
            "Updated property [core/project].\n"
          ]
        }
      ]
    },
    {
      "metadata": {
        "id": "kJdgm4DQH2ck"
      },
      "cell_type": "markdown",
      "source": [
        "Example query with three terms with k = 1.5, b = 0.65"
      ]
    },
    {
      "metadata": {
        "id": "0n3L3sDXGWiG"
      },
      "cell_type": "code",
      "source": [
        "query = \"莫如樹人\"\n",
        "terms = [\"莫如\",\"樹\", \"人\"]\n",
        "bigram = [terms[0] + terms[1], terms[1] + terms[2]]\n",
        "avdl = 4497.0 # Average document length"
      ],
      "execution_count": 3,
      "outputs": []
    },
    {
      "metadata": {
        "id": "_4ufxRC3A4Ef"
      },
      "cell_type": "code",
      "source": [
        "word_freq_df3u = pd.io.gbq.read_gbq('''\n",
        "  SELECT\n",
        "    SUM((1.5 + 1) * frequency * idf / (frequency + 1.5 * (1 - 0.65 + 0.65 * (doc_len / %f)))) AS bm25,\n",
        "    document\n",
        "  FROM\n",
        "    [cnreader.word_freq_doc]\n",
        "  WHERE\n",
        "    (word = '%s' OR word = '%s' OR word = '%s')\n",
        "  GROUP BY document \n",
        "  ORDER BY bm25 DESC LIMIT 5000\n",
        "''' % (avdl, terms[0], terms[1], terms[2]), project_id=project_id)\n",
        "word_freq_df3u.head(5)"
      ],
      "execution_count": null,
      "outputs": []
    },
    {
      "metadata": {
        "id": "m68A-zaMBMQY"
      },
      "cell_type": "code",
      "source": [
        "word_freq_df3u[word_freq_df3u['document'] == 'guanzi/guanzi004.html']"
      ],
      "execution_count": null,
      "outputs": []
    },
    {
      "metadata": {
        "id": "HB574uwWCaIQ"
      },
      "cell_type": "code",
      "source": [
        "word_freq_df3u[word_freq_df3u['document'] == 'hanfeizi/hanfeizi033.html']"
      ],
      "execution_count": null,
      "outputs": []
    },
    {
      "metadata": {
        "id": "JHcAoKeIBmwj"
      },
      "cell_type": "code",
      "source": [
        "1.458261/3.62256"
      ],
      "execution_count": null,
      "outputs": []
    },
    {
      "metadata": {
        "id": "dTSDVmGcNtwb"
      },
      "cell_type": "markdown",
      "source": [
        "## Relevance\n",
        "The chinesenotes.com software computes the BM25 for individual words and bigrams and then outputs the results to logs when users run the queries. Some results extracted from exported logs are shown here. Exploring the relation between BM25 and relevance with some results from [hbreader.org](http://hbreader.org/)."
      ]
    },
    {
      "metadata": {
        "id": "FE0E0BC9Md5Z",
        "colab": {
          "base_uri": "https://localhost:8080/",
          "height": 434
        },
        "outputId": "c09cf592-c40c-4c87-fd92-ffd2663d9aae"
      },
      "cell_type": "code",
      "source": [
        "import io\n",
        "import urllib.request\n",
        "\n",
        "url = (\"https://raw.githubusercontent.com/alexamies/chinesenotes-python/master/full-text-training-data/relevance_full_text_search.tsv\")\n",
        "response = urllib.request.urlopen(url)\n",
        "content = response.read()\n",
        "types = {'Corpus': np.object, 'Query': np.object, 'Terms': np.uint32, \n",
        "        'Scoped': np.bool, 'Rank': np.uint32, 'Title': np.object, \n",
        "        'Sim Title': np.uint32, 'Sim Words': np.float32, 'Sim Bigrams': np.float32, \n",
        "        'Bit Vector': np.float32, 'Exact Match': np.uint32, 'Sim Bigrams': np.float32, \n",
        "        'ContainsTerms': np.object, 'Relevant': np.uint32}\n",
        "\n",
        "relevance_df=pd.read_csv(io.StringIO(content.decode('utf-8')), sep='\\t',\n",
        "                           skiprows=(0), header=(0), dtype=types)\n",
        "relevance_df.head()"
      ],
      "execution_count": 20,
      "outputs": [
        {
          "output_type": "stream",
          "name": "stderr",
          "text": [
            "/usr/local/lib/python3.7/dist-packages/ipykernel_launcher.py:7: DeprecationWarning: `np.object` is a deprecated alias for the builtin `object`. To silence this warning, use `object` by itself. Doing this will not modify any behavior and is safe. \n",
            "Deprecated in NumPy 1.20; for more details and guidance: https://numpy.org/devdocs/release/1.20.0-notes.html#deprecations\n",
            "  import sys\n",
            "/usr/local/lib/python3.7/dist-packages/ipykernel_launcher.py:8: DeprecationWarning: `np.bool` is a deprecated alias for the builtin `bool`. To silence this warning, use `bool` by itself. Doing this will not modify any behavior and is safe. If you specifically wanted the numpy scalar type, use `np.bool_` here.\n",
            "Deprecated in NumPy 1.20; for more details and guidance: https://numpy.org/devdocs/release/1.20.0-notes.html#deprecations\n",
            "  \n",
            "/usr/local/lib/python3.7/dist-packages/ipykernel_launcher.py:8: DeprecationWarning: `np.object` is a deprecated alias for the builtin `object`. To silence this warning, use `object` by itself. Doing this will not modify any behavior and is safe. \n",
            "Deprecated in NumPy 1.20; for more details and guidance: https://numpy.org/devdocs/release/1.20.0-notes.html#deprecations\n",
            "  \n",
            "/usr/local/lib/python3.7/dist-packages/ipykernel_launcher.py:11: DeprecationWarning: `np.object` is a deprecated alias for the builtin `object`. To silence this warning, use `object` by itself. Doing this will not modify any behavior and is safe. \n",
            "Deprecated in NumPy 1.20; for more details and guidance: https://numpy.org/devdocs/release/1.20.0-notes.html#deprecations\n",
            "  # This is added back by InteractiveShellApp.init_path()\n"
          ]
        },
        {
          "output_type": "execute_result",
          "data": {
            "text/plain": [
              "         Corpus Query  Terms  Scoped  Rank  \\\n",
              "0  hbreader.org   一腳印      2   False     1   \n",
              "1  hbreader.org   一腳印      2   False     2   \n",
              "2  hbreader.org   一腳印      2   False     3   \n",
              "3  hbreader.org   一腳印      2   False     4   \n",
              "4  hbreader.org   一腳印      2   False     5   \n",
              "\n",
              "                                               Title  \\\n",
              "0                 A Footprint with Every Step  一步一腳印   \n",
              "1  Chapter 1: Don't be Lacking - One Step, One Fo...   \n",
              "2  Chapter 3: Unbounded Creativity - Footprints 卷...   \n",
              "3  Chapter 4: The Beauty of Transcendence - Histo...   \n",
              "4                                   Being Humble 低　頭   \n",
              "\n",
              "                                               Link  Sim Title  Sim Words  \\\n",
              "0  http://hbreader.org/wenji/miyun_shengming67.html          1   1.000000   \n",
              "1        http://hbreader.org/wenji/wanshi07002.html          1   0.987608   \n",
              "2        http://hbreader.org/wenji/wanshi08066.html          0   0.976419   \n",
              "3        http://hbreader.org/wenji/wanshi09084.html          0   0.875465   \n",
              "4     http://hbreader.org/wenji/miyun_heziji07.html          0   0.577605   \n",
              "\n",
              "   Sim Bigrams  Bit Vector  Exact Match ContainsTerms  Relevant  \n",
              "0     1.000000         1.0            1           一腳印         1  \n",
              "1     0.968682         1.0            1           一腳印         1  \n",
              "2     0.853587         1.0            1           一腳印         1  \n",
              "3     0.570640         1.0            1           一腳印         1  \n",
              "4     0.591299         1.0            1           一腳印         1  "
            ],
            "text/html": [
              "\n",
              "  <div id=\"df-233f13be-63a1-4677-bc0c-b4614d9d94e7\">\n",
              "    <div class=\"colab-df-container\">\n",
              "      <div>\n",
              "<style scoped>\n",
              "    .dataframe tbody tr th:only-of-type {\n",
              "        vertical-align: middle;\n",
              "    }\n",
              "\n",
              "    .dataframe tbody tr th {\n",
              "        vertical-align: top;\n",
              "    }\n",
              "\n",
              "    .dataframe thead th {\n",
              "        text-align: right;\n",
              "    }\n",
              "</style>\n",
              "<table border=\"1\" class=\"dataframe\">\n",
              "  <thead>\n",
              "    <tr style=\"text-align: right;\">\n",
              "      <th></th>\n",
              "      <th>Corpus</th>\n",
              "      <th>Query</th>\n",
              "      <th>Terms</th>\n",
              "      <th>Scoped</th>\n",
              "      <th>Rank</th>\n",
              "      <th>Title</th>\n",
              "      <th>Link</th>\n",
              "      <th>Sim Title</th>\n",
              "      <th>Sim Words</th>\n",
              "      <th>Sim Bigrams</th>\n",
              "      <th>Bit Vector</th>\n",
              "      <th>Exact Match</th>\n",
              "      <th>ContainsTerms</th>\n",
              "      <th>Relevant</th>\n",
              "    </tr>\n",
              "  </thead>\n",
              "  <tbody>\n",
              "    <tr>\n",
              "      <th>0</th>\n",
              "      <td>hbreader.org</td>\n",
              "      <td>一腳印</td>\n",
              "      <td>2</td>\n",
              "      <td>False</td>\n",
              "      <td>1</td>\n",
              "      <td>A Footprint with Every Step  一步一腳印</td>\n",
              "      <td>http://hbreader.org/wenji/miyun_shengming67.html</td>\n",
              "      <td>1</td>\n",
              "      <td>1.000000</td>\n",
              "      <td>1.000000</td>\n",
              "      <td>1.0</td>\n",
              "      <td>1</td>\n",
              "      <td>一腳印</td>\n",
              "      <td>1</td>\n",
              "    </tr>\n",
              "    <tr>\n",
              "      <th>1</th>\n",
              "      <td>hbreader.org</td>\n",
              "      <td>一腳印</td>\n",
              "      <td>2</td>\n",
              "      <td>False</td>\n",
              "      <td>2</td>\n",
              "      <td>Chapter 1: Don't be Lacking - One Step, One Fo...</td>\n",
              "      <td>http://hbreader.org/wenji/wanshi07002.html</td>\n",
              "      <td>1</td>\n",
              "      <td>0.987608</td>\n",
              "      <td>0.968682</td>\n",
              "      <td>1.0</td>\n",
              "      <td>1</td>\n",
              "      <td>一腳印</td>\n",
              "      <td>1</td>\n",
              "    </tr>\n",
              "    <tr>\n",
              "      <th>2</th>\n",
              "      <td>hbreader.org</td>\n",
              "      <td>一腳印</td>\n",
              "      <td>2</td>\n",
              "      <td>False</td>\n",
              "      <td>3</td>\n",
              "      <td>Chapter 3: Unbounded Creativity - Footprints 卷...</td>\n",
              "      <td>http://hbreader.org/wenji/wanshi08066.html</td>\n",
              "      <td>0</td>\n",
              "      <td>0.976419</td>\n",
              "      <td>0.853587</td>\n",
              "      <td>1.0</td>\n",
              "      <td>1</td>\n",
              "      <td>一腳印</td>\n",
              "      <td>1</td>\n",
              "    </tr>\n",
              "    <tr>\n",
              "      <th>3</th>\n",
              "      <td>hbreader.org</td>\n",
              "      <td>一腳印</td>\n",
              "      <td>2</td>\n",
              "      <td>False</td>\n",
              "      <td>4</td>\n",
              "      <td>Chapter 4: The Beauty of Transcendence - Histo...</td>\n",
              "      <td>http://hbreader.org/wenji/wanshi09084.html</td>\n",
              "      <td>0</td>\n",
              "      <td>0.875465</td>\n",
              "      <td>0.570640</td>\n",
              "      <td>1.0</td>\n",
              "      <td>1</td>\n",
              "      <td>一腳印</td>\n",
              "      <td>1</td>\n",
              "    </tr>\n",
              "    <tr>\n",
              "      <th>4</th>\n",
              "      <td>hbreader.org</td>\n",
              "      <td>一腳印</td>\n",
              "      <td>2</td>\n",
              "      <td>False</td>\n",
              "      <td>5</td>\n",
              "      <td>Being Humble 低　頭</td>\n",
              "      <td>http://hbreader.org/wenji/miyun_heziji07.html</td>\n",
              "      <td>0</td>\n",
              "      <td>0.577605</td>\n",
              "      <td>0.591299</td>\n",
              "      <td>1.0</td>\n",
              "      <td>1</td>\n",
              "      <td>一腳印</td>\n",
              "      <td>1</td>\n",
              "    </tr>\n",
              "  </tbody>\n",
              "</table>\n",
              "</div>\n",
              "      <button class=\"colab-df-convert\" onclick=\"convertToInteractive('df-233f13be-63a1-4677-bc0c-b4614d9d94e7')\"\n",
              "              title=\"Convert this dataframe to an interactive table.\"\n",
              "              style=\"display:none;\">\n",
              "        \n",
              "  <svg xmlns=\"http://www.w3.org/2000/svg\" height=\"24px\"viewBox=\"0 0 24 24\"\n",
              "       width=\"24px\">\n",
              "    <path d=\"M0 0h24v24H0V0z\" fill=\"none\"/>\n",
              "    <path d=\"M18.56 5.44l.94 2.06.94-2.06 2.06-.94-2.06-.94-.94-2.06-.94 2.06-2.06.94zm-11 1L8.5 8.5l.94-2.06 2.06-.94-2.06-.94L8.5 2.5l-.94 2.06-2.06.94zm10 10l.94 2.06.94-2.06 2.06-.94-2.06-.94-.94-2.06-.94 2.06-2.06.94z\"/><path d=\"M17.41 7.96l-1.37-1.37c-.4-.4-.92-.59-1.43-.59-.52 0-1.04.2-1.43.59L10.3 9.45l-7.72 7.72c-.78.78-.78 2.05 0 2.83L4 21.41c.39.39.9.59 1.41.59.51 0 1.02-.2 1.41-.59l7.78-7.78 2.81-2.81c.8-.78.8-2.07 0-2.86zM5.41 20L4 18.59l7.72-7.72 1.47 1.35L5.41 20z\"/>\n",
              "  </svg>\n",
              "      </button>\n",
              "      \n",
              "  <style>\n",
              "    .colab-df-container {\n",
              "      display:flex;\n",
              "      flex-wrap:wrap;\n",
              "      gap: 12px;\n",
              "    }\n",
              "\n",
              "    .colab-df-convert {\n",
              "      background-color: #E8F0FE;\n",
              "      border: none;\n",
              "      border-radius: 50%;\n",
              "      cursor: pointer;\n",
              "      display: none;\n",
              "      fill: #1967D2;\n",
              "      height: 32px;\n",
              "      padding: 0 0 0 0;\n",
              "      width: 32px;\n",
              "    }\n",
              "\n",
              "    .colab-df-convert:hover {\n",
              "      background-color: #E2EBFA;\n",
              "      box-shadow: 0px 1px 2px rgba(60, 64, 67, 0.3), 0px 1px 3px 1px rgba(60, 64, 67, 0.15);\n",
              "      fill: #174EA6;\n",
              "    }\n",
              "\n",
              "    [theme=dark] .colab-df-convert {\n",
              "      background-color: #3B4455;\n",
              "      fill: #D2E3FC;\n",
              "    }\n",
              "\n",
              "    [theme=dark] .colab-df-convert:hover {\n",
              "      background-color: #434B5C;\n",
              "      box-shadow: 0px 1px 3px 1px rgba(0, 0, 0, 0.15);\n",
              "      filter: drop-shadow(0px 1px 2px rgba(0, 0, 0, 0.3));\n",
              "      fill: #FFFFFF;\n",
              "    }\n",
              "  </style>\n",
              "\n",
              "      <script>\n",
              "        const buttonEl =\n",
              "          document.querySelector('#df-233f13be-63a1-4677-bc0c-b4614d9d94e7 button.colab-df-convert');\n",
              "        buttonEl.style.display =\n",
              "          google.colab.kernel.accessAllowed ? 'block' : 'none';\n",
              "\n",
              "        async function convertToInteractive(key) {\n",
              "          const element = document.querySelector('#df-233f13be-63a1-4677-bc0c-b4614d9d94e7');\n",
              "          const dataTable =\n",
              "            await google.colab.kernel.invokeFunction('convertToInteractive',\n",
              "                                                     [key], {});\n",
              "          if (!dataTable) return;\n",
              "\n",
              "          const docLinkHtml = 'Like what you see? Visit the ' +\n",
              "            '<a target=\"_blank\" href=https://colab.research.google.com/notebooks/data_table.ipynb>data table notebook</a>'\n",
              "            + ' to learn more about interactive tables.';\n",
              "          element.innerHTML = '';\n",
              "          dataTable['output_type'] = 'display_data';\n",
              "          await google.colab.output.renderOutput(dataTable, element);\n",
              "          const docLink = document.createElement('div');\n",
              "          docLink.innerHTML = docLinkHtml;\n",
              "          element.appendChild(docLink);\n",
              "        }\n",
              "      </script>\n",
              "    </div>\n",
              "  </div>\n",
              "  "
            ]
          },
          "metadata": {},
          "execution_count": 20
        }
      ]
    },
    {
      "metadata": {
        "id": "S-ED1J6CN19M",
        "colab": {
          "resources": {
            "http://localhost:8080/nbextensions/google.colab/files.js": {
              "data": "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",
              "ok": true,
              "headers": [
                [
                  "content-type",
                  "application/javascript"
                ]
              ],
              "status": 200,
              "status_text": ""
            }
          },
          "base_uri": "https://localhost:8080/",
          "height": 227
        },
        "outputId": "92d76edd-33b6-4a17-f936-59787c0b5b72"
      },
      "cell_type": "code",
      "source": [
        "# Use if you want to load from your own file, otherwise skip this block\n",
        "from google.colab import files\n",
        "\n",
        "uploaded = files.upload()\n",
        "fname = \"\"\n",
        "for fn in uploaded.keys():\n",
        "  print('User uploaded file \"{name}\" with length {length} bytes'.format(\n",
        "      name=fn, length=len(uploaded[fn])))\n",
        "  fname = fn\n",
        "  relevance_df = pd.read_csv(fname,sep='\\t',skiprows=(0),header=(0))\n",
        "relevance_df.head()"
      ],
      "execution_count": 21,
      "outputs": [
        {
          "output_type": "display_data",
          "data": {
            "text/plain": [
              "<IPython.core.display.HTML object>"
            ],
            "text/html": [
              "\n",
              "     <input type=\"file\" id=\"files-1c79119c-d436-4be3-9002-aa92239544d1\" name=\"files[]\" multiple disabled\n",
              "        style=\"border:none\" />\n",
              "     <output id=\"result-1c79119c-d436-4be3-9002-aa92239544d1\">\n",
              "      Upload widget is only available when the cell has been executed in the\n",
              "      current browser session. Please rerun this cell to enable.\n",
              "      </output>\n",
              "      <script src=\"/nbextensions/google.colab/files.js\"></script> "
            ]
          },
          "metadata": {}
        },
        {
          "output_type": "execute_result",
          "data": {
            "text/plain": [
              "         Corpus Query  Terms  Scoped  Rank  \\\n",
              "0  hbreader.org   一腳印      2   False     1   \n",
              "1  hbreader.org   一腳印      2   False     2   \n",
              "2  hbreader.org   一腳印      2   False     3   \n",
              "3  hbreader.org   一腳印      2   False     4   \n",
              "4  hbreader.org   一腳印      2   False     5   \n",
              "\n",
              "                                               Title  \\\n",
              "0                 A Footprint with Every Step  一步一腳印   \n",
              "1  Chapter 1: Don't be Lacking - One Step, One Fo...   \n",
              "2  Chapter 3: Unbounded Creativity - Footprints 卷...   \n",
              "3  Chapter 4: The Beauty of Transcendence - Histo...   \n",
              "4                                   Being Humble 低　頭   \n",
              "\n",
              "                                               Link  Sim Title  Sim Words  \\\n",
              "0  http://hbreader.org/wenji/miyun_shengming67.html          1   1.000000   \n",
              "1        http://hbreader.org/wenji/wanshi07002.html          1   0.987608   \n",
              "2        http://hbreader.org/wenji/wanshi08066.html          0   0.976419   \n",
              "3        http://hbreader.org/wenji/wanshi09084.html          0   0.875465   \n",
              "4     http://hbreader.org/wenji/miyun_heziji07.html          0   0.577605   \n",
              "\n",
              "   Sim Bigrams  Bit Vector  Exact Match ContainsTerms  Relevant  \n",
              "0     1.000000         1.0            1           一腳印         1  \n",
              "1     0.968682         1.0            1           一腳印         1  \n",
              "2     0.853587         1.0            1           一腳印         1  \n",
              "3     0.570640         1.0            1           一腳印         1  \n",
              "4     0.591299         1.0            1           一腳印         1  "
            ],
            "text/html": [
              "\n",
              "  <div id=\"df-7283152b-0a87-4ed3-992d-df7d906acdf1\">\n",
              "    <div class=\"colab-df-container\">\n",
              "      <div>\n",
              "<style scoped>\n",
              "    .dataframe tbody tr th:only-of-type {\n",
              "        vertical-align: middle;\n",
              "    }\n",
              "\n",
              "    .dataframe tbody tr th {\n",
              "        vertical-align: top;\n",
              "    }\n",
              "\n",
              "    .dataframe thead th {\n",
              "        text-align: right;\n",
              "    }\n",
              "</style>\n",
              "<table border=\"1\" class=\"dataframe\">\n",
              "  <thead>\n",
              "    <tr style=\"text-align: right;\">\n",
              "      <th></th>\n",
              "      <th>Corpus</th>\n",
              "      <th>Query</th>\n",
              "      <th>Terms</th>\n",
              "      <th>Scoped</th>\n",
              "      <th>Rank</th>\n",
              "      <th>Title</th>\n",
              "      <th>Link</th>\n",
              "      <th>Sim Title</th>\n",
              "      <th>Sim Words</th>\n",
              "      <th>Sim Bigrams</th>\n",
              "      <th>Bit Vector</th>\n",
              "      <th>Exact Match</th>\n",
              "      <th>ContainsTerms</th>\n",
              "      <th>Relevant</th>\n",
              "    </tr>\n",
              "  </thead>\n",
              "  <tbody>\n",
              "    <tr>\n",
              "      <th>0</th>\n",
              "      <td>hbreader.org</td>\n",
              "      <td>一腳印</td>\n",
              "      <td>2</td>\n",
              "      <td>False</td>\n",
              "      <td>1</td>\n",
              "      <td>A Footprint with Every Step  一步一腳印</td>\n",
              "      <td>http://hbreader.org/wenji/miyun_shengming67.html</td>\n",
              "      <td>1</td>\n",
              "      <td>1.000000</td>\n",
              "      <td>1.000000</td>\n",
              "      <td>1.0</td>\n",
              "      <td>1</td>\n",
              "      <td>一腳印</td>\n",
              "      <td>1</td>\n",
              "    </tr>\n",
              "    <tr>\n",
              "      <th>1</th>\n",
              "      <td>hbreader.org</td>\n",
              "      <td>一腳印</td>\n",
              "      <td>2</td>\n",
              "      <td>False</td>\n",
              "      <td>2</td>\n",
              "      <td>Chapter 1: Don't be Lacking - One Step, One Fo...</td>\n",
              "      <td>http://hbreader.org/wenji/wanshi07002.html</td>\n",
              "      <td>1</td>\n",
              "      <td>0.987608</td>\n",
              "      <td>0.968682</td>\n",
              "      <td>1.0</td>\n",
              "      <td>1</td>\n",
              "      <td>一腳印</td>\n",
              "      <td>1</td>\n",
              "    </tr>\n",
              "    <tr>\n",
              "      <th>2</th>\n",
              "      <td>hbreader.org</td>\n",
              "      <td>一腳印</td>\n",
              "      <td>2</td>\n",
              "      <td>False</td>\n",
              "      <td>3</td>\n",
              "      <td>Chapter 3: Unbounded Creativity - Footprints 卷...</td>\n",
              "      <td>http://hbreader.org/wenji/wanshi08066.html</td>\n",
              "      <td>0</td>\n",
              "      <td>0.976419</td>\n",
              "      <td>0.853587</td>\n",
              "      <td>1.0</td>\n",
              "      <td>1</td>\n",
              "      <td>一腳印</td>\n",
              "      <td>1</td>\n",
              "    </tr>\n",
              "    <tr>\n",
              "      <th>3</th>\n",
              "      <td>hbreader.org</td>\n",
              "      <td>一腳印</td>\n",
              "      <td>2</td>\n",
              "      <td>False</td>\n",
              "      <td>4</td>\n",
              "      <td>Chapter 4: The Beauty of Transcendence - Histo...</td>\n",
              "      <td>http://hbreader.org/wenji/wanshi09084.html</td>\n",
              "      <td>0</td>\n",
              "      <td>0.875465</td>\n",
              "      <td>0.570640</td>\n",
              "      <td>1.0</td>\n",
              "      <td>1</td>\n",
              "      <td>一腳印</td>\n",
              "      <td>1</td>\n",
              "    </tr>\n",
              "    <tr>\n",
              "      <th>4</th>\n",
              "      <td>hbreader.org</td>\n",
              "      <td>一腳印</td>\n",
              "      <td>2</td>\n",
              "      <td>False</td>\n",
              "      <td>5</td>\n",
              "      <td>Being Humble 低　頭</td>\n",
              "      <td>http://hbreader.org/wenji/miyun_heziji07.html</td>\n",
              "      <td>0</td>\n",
              "      <td>0.577605</td>\n",
              "      <td>0.591299</td>\n",
              "      <td>1.0</td>\n",
              "      <td>1</td>\n",
              "      <td>一腳印</td>\n",
              "      <td>1</td>\n",
              "    </tr>\n",
              "  </tbody>\n",
              "</table>\n",
              "</div>\n",
              "      <button class=\"colab-df-convert\" onclick=\"convertToInteractive('df-7283152b-0a87-4ed3-992d-df7d906acdf1')\"\n",
              "              title=\"Convert this dataframe to an interactive table.\"\n",
              "              style=\"display:none;\">\n",
              "        \n",
              "  <svg xmlns=\"http://www.w3.org/2000/svg\" height=\"24px\"viewBox=\"0 0 24 24\"\n",
              "       width=\"24px\">\n",
              "    <path d=\"M0 0h24v24H0V0z\" fill=\"none\"/>\n",
              "    <path d=\"M18.56 5.44l.94 2.06.94-2.06 2.06-.94-2.06-.94-.94-2.06-.94 2.06-2.06.94zm-11 1L8.5 8.5l.94-2.06 2.06-.94-2.06-.94L8.5 2.5l-.94 2.06-2.06.94zm10 10l.94 2.06.94-2.06 2.06-.94-2.06-.94-.94-2.06-.94 2.06-2.06.94z\"/><path d=\"M17.41 7.96l-1.37-1.37c-.4-.4-.92-.59-1.43-.59-.52 0-1.04.2-1.43.59L10.3 9.45l-7.72 7.72c-.78.78-.78 2.05 0 2.83L4 21.41c.39.39.9.59 1.41.59.51 0 1.02-.2 1.41-.59l7.78-7.78 2.81-2.81c.8-.78.8-2.07 0-2.86zM5.41 20L4 18.59l7.72-7.72 1.47 1.35L5.41 20z\"/>\n",
              "  </svg>\n",
              "      </button>\n",
              "      \n",
              "  <style>\n",
              "    .colab-df-container {\n",
              "      display:flex;\n",
              "      flex-wrap:wrap;\n",
              "      gap: 12px;\n",
              "    }\n",
              "\n",
              "    .colab-df-convert {\n",
              "      background-color: #E8F0FE;\n",
              "      border: none;\n",
              "      border-radius: 50%;\n",
              "      cursor: pointer;\n",
              "      display: none;\n",
              "      fill: #1967D2;\n",
              "      height: 32px;\n",
              "      padding: 0 0 0 0;\n",
              "      width: 32px;\n",
              "    }\n",
              "\n",
              "    .colab-df-convert:hover {\n",
              "      background-color: #E2EBFA;\n",
              "      box-shadow: 0px 1px 2px rgba(60, 64, 67, 0.3), 0px 1px 3px 1px rgba(60, 64, 67, 0.15);\n",
              "      fill: #174EA6;\n",
              "    }\n",
              "\n",
              "    [theme=dark] .colab-df-convert {\n",
              "      background-color: #3B4455;\n",
              "      fill: #D2E3FC;\n",
              "    }\n",
              "\n",
              "    [theme=dark] .colab-df-convert:hover {\n",
              "      background-color: #434B5C;\n",
              "      box-shadow: 0px 1px 3px 1px rgba(0, 0, 0, 0.15);\n",
              "      filter: drop-shadow(0px 1px 2px rgba(0, 0, 0, 0.3));\n",
              "      fill: #FFFFFF;\n",
              "    }\n",
              "  </style>\n",
              "\n",
              "      <script>\n",
              "        const buttonEl =\n",
              "          document.querySelector('#df-7283152b-0a87-4ed3-992d-df7d906acdf1 button.colab-df-convert');\n",
              "        buttonEl.style.display =\n",
              "          google.colab.kernel.accessAllowed ? 'block' : 'none';\n",
              "\n",
              "        async function convertToInteractive(key) {\n",
              "          const element = document.querySelector('#df-7283152b-0a87-4ed3-992d-df7d906acdf1');\n",
              "          const dataTable =\n",
              "            await google.colab.kernel.invokeFunction('convertToInteractive',\n",
              "                                                     [key], {});\n",
              "          if (!dataTable) return;\n",
              "\n",
              "          const docLinkHtml = 'Like what you see? Visit the ' +\n",
              "            '<a target=\"_blank\" href=https://colab.research.google.com/notebooks/data_table.ipynb>data table notebook</a>'\n",
              "            + ' to learn more about interactive tables.';\n",
              "          element.innerHTML = '';\n",
              "          dataTable['output_type'] = 'display_data';\n",
              "          await google.colab.output.renderOutput(dataTable, element);\n",
              "          const docLink = document.createElement('div');\n",
              "          docLink.innerHTML = docLinkHtml;\n",
              "          element.appendChild(docLink);\n",
              "        }\n",
              "      </script>\n",
              "    </div>\n",
              "  </div>\n",
              "  "
            ]
          },
          "metadata": {},
          "execution_count": 21
        }
      ]
    },
    {
      "metadata": {
        "id": "kJZsOhDKNbP8",
        "colab": {
          "base_uri": "https://localhost:8080/",
          "height": 300
        },
        "outputId": "ff4003f9-35cc-43a0-973e-278bbd2c080f"
      },
      "cell_type": "code",
      "source": [
        "relevance_df.describe()"
      ],
      "execution_count": 22,
      "outputs": [
        {
          "output_type": "execute_result",
          "data": {
            "text/plain": [
              "            Terms        Rank   Sim Title   Sim Words  Sim Bigrams  \\\n",
              "count  487.000000  487.000000  487.000000  487.000000   487.000000   \n",
              "mean     4.016427   20.147844    0.030801    0.762379     0.577538   \n",
              "std      1.717657   14.539386    0.172955    0.359385     0.545376   \n",
              "min      1.000000    1.000000    0.000000    0.000000     0.000000   \n",
              "25%      3.000000    7.000000    0.000000    0.450724     0.355892   \n",
              "50%      3.000000   18.000000    0.000000    0.794035     0.489095   \n",
              "75%      4.000000   32.000000    0.000000    1.000000     0.610045   \n",
              "max      8.000000   50.000000    1.000000    3.130460     8.089949   \n",
              "\n",
              "       Bit Vector  Exact Match    Relevant  \n",
              "count  487.000000   487.000000  487.000000  \n",
              "mean     0.842102     0.232033    0.326489  \n",
              "std      0.205354     0.422564    0.469411  \n",
              "min      0.000000     0.000000    0.000000  \n",
              "25%      0.666700     0.000000    0.000000  \n",
              "50%      0.833333     0.000000    0.000000  \n",
              "75%      1.000000     0.000000    1.000000  \n",
              "max      1.333333     1.000000    1.000000  "
            ],
            "text/html": [
              "\n",
              "  <div id=\"df-12fbccfd-79a0-4cde-ab5e-bd06872110e2\">\n",
              "    <div class=\"colab-df-container\">\n",
              "      <div>\n",
              "<style scoped>\n",
              "    .dataframe tbody tr th:only-of-type {\n",
              "        vertical-align: middle;\n",
              "    }\n",
              "\n",
              "    .dataframe tbody tr th {\n",
              "        vertical-align: top;\n",
              "    }\n",
              "\n",
              "    .dataframe thead th {\n",
              "        text-align: right;\n",
              "    }\n",
              "</style>\n",
              "<table border=\"1\" class=\"dataframe\">\n",
              "  <thead>\n",
              "    <tr style=\"text-align: right;\">\n",
              "      <th></th>\n",
              "      <th>Terms</th>\n",
              "      <th>Rank</th>\n",
              "      <th>Sim Title</th>\n",
              "      <th>Sim Words</th>\n",
              "      <th>Sim Bigrams</th>\n",
              "      <th>Bit Vector</th>\n",
              "      <th>Exact Match</th>\n",
              "      <th>Relevant</th>\n",
              "    </tr>\n",
              "  </thead>\n",
              "  <tbody>\n",
              "    <tr>\n",
              "      <th>count</th>\n",
              "      <td>487.000000</td>\n",
              "      <td>487.000000</td>\n",
              "      <td>487.000000</td>\n",
              "      <td>487.000000</td>\n",
              "      <td>487.000000</td>\n",
              "      <td>487.000000</td>\n",
              "      <td>487.000000</td>\n",
              "      <td>487.000000</td>\n",
              "    </tr>\n",
              "    <tr>\n",
              "      <th>mean</th>\n",
              "      <td>4.016427</td>\n",
              "      <td>20.147844</td>\n",
              "      <td>0.030801</td>\n",
              "      <td>0.762379</td>\n",
              "      <td>0.577538</td>\n",
              "      <td>0.842102</td>\n",
              "      <td>0.232033</td>\n",
              "      <td>0.326489</td>\n",
              "    </tr>\n",
              "    <tr>\n",
              "      <th>std</th>\n",
              "      <td>1.717657</td>\n",
              "      <td>14.539386</td>\n",
              "      <td>0.172955</td>\n",
              "      <td>0.359385</td>\n",
              "      <td>0.545376</td>\n",
              "      <td>0.205354</td>\n",
              "      <td>0.422564</td>\n",
              "      <td>0.469411</td>\n",
              "    </tr>\n",
              "    <tr>\n",
              "      <th>min</th>\n",
              "      <td>1.000000</td>\n",
              "      <td>1.000000</td>\n",
              "      <td>0.000000</td>\n",
              "      <td>0.000000</td>\n",
              "      <td>0.000000</td>\n",
              "      <td>0.000000</td>\n",
              "      <td>0.000000</td>\n",
              "      <td>0.000000</td>\n",
              "    </tr>\n",
              "    <tr>\n",
              "      <th>25%</th>\n",
              "      <td>3.000000</td>\n",
              "      <td>7.000000</td>\n",
              "      <td>0.000000</td>\n",
              "      <td>0.450724</td>\n",
              "      <td>0.355892</td>\n",
              "      <td>0.666700</td>\n",
              "      <td>0.000000</td>\n",
              "      <td>0.000000</td>\n",
              "    </tr>\n",
              "    <tr>\n",
              "      <th>50%</th>\n",
              "      <td>3.000000</td>\n",
              "      <td>18.000000</td>\n",
              "      <td>0.000000</td>\n",
              "      <td>0.794035</td>\n",
              "      <td>0.489095</td>\n",
              "      <td>0.833333</td>\n",
              "      <td>0.000000</td>\n",
              "      <td>0.000000</td>\n",
              "    </tr>\n",
              "    <tr>\n",
              "      <th>75%</th>\n",
              "      <td>4.000000</td>\n",
              "      <td>32.000000</td>\n",
              "      <td>0.000000</td>\n",
              "      <td>1.000000</td>\n",
              "      <td>0.610045</td>\n",
              "      <td>1.000000</td>\n",
              "      <td>0.000000</td>\n",
              "      <td>1.000000</td>\n",
              "    </tr>\n",
              "    <tr>\n",
              "      <th>max</th>\n",
              "      <td>8.000000</td>\n",
              "      <td>50.000000</td>\n",
              "      <td>1.000000</td>\n",
              "      <td>3.130460</td>\n",
              "      <td>8.089949</td>\n",
              "      <td>1.333333</td>\n",
              "      <td>1.000000</td>\n",
              "      <td>1.000000</td>\n",
              "    </tr>\n",
              "  </tbody>\n",
              "</table>\n",
              "</div>\n",
              "      <button class=\"colab-df-convert\" onclick=\"convertToInteractive('df-12fbccfd-79a0-4cde-ab5e-bd06872110e2')\"\n",
              "              title=\"Convert this dataframe to an interactive table.\"\n",
              "              style=\"display:none;\">\n",
              "        \n",
              "  <svg xmlns=\"http://www.w3.org/2000/svg\" height=\"24px\"viewBox=\"0 0 24 24\"\n",
              "       width=\"24px\">\n",
              "    <path d=\"M0 0h24v24H0V0z\" fill=\"none\"/>\n",
              "    <path d=\"M18.56 5.44l.94 2.06.94-2.06 2.06-.94-2.06-.94-.94-2.06-.94 2.06-2.06.94zm-11 1L8.5 8.5l.94-2.06 2.06-.94-2.06-.94L8.5 2.5l-.94 2.06-2.06.94zm10 10l.94 2.06.94-2.06 2.06-.94-2.06-.94-.94-2.06-.94 2.06-2.06.94z\"/><path d=\"M17.41 7.96l-1.37-1.37c-.4-.4-.92-.59-1.43-.59-.52 0-1.04.2-1.43.59L10.3 9.45l-7.72 7.72c-.78.78-.78 2.05 0 2.83L4 21.41c.39.39.9.59 1.41.59.51 0 1.02-.2 1.41-.59l7.78-7.78 2.81-2.81c.8-.78.8-2.07 0-2.86zM5.41 20L4 18.59l7.72-7.72 1.47 1.35L5.41 20z\"/>\n",
              "  </svg>\n",
              "      </button>\n",
              "      \n",
              "  <style>\n",
              "    .colab-df-container {\n",
              "      display:flex;\n",
              "      flex-wrap:wrap;\n",
              "      gap: 12px;\n",
              "    }\n",
              "\n",
              "    .colab-df-convert {\n",
              "      background-color: #E8F0FE;\n",
              "      border: none;\n",
              "      border-radius: 50%;\n",
              "      cursor: pointer;\n",
              "      display: none;\n",
              "      fill: #1967D2;\n",
              "      height: 32px;\n",
              "      padding: 0 0 0 0;\n",
              "      width: 32px;\n",
              "    }\n",
              "\n",
              "    .colab-df-convert:hover {\n",
              "      background-color: #E2EBFA;\n",
              "      box-shadow: 0px 1px 2px rgba(60, 64, 67, 0.3), 0px 1px 3px 1px rgba(60, 64, 67, 0.15);\n",
              "      fill: #174EA6;\n",
              "    }\n",
              "\n",
              "    [theme=dark] .colab-df-convert {\n",
              "      background-color: #3B4455;\n",
              "      fill: #D2E3FC;\n",
              "    }\n",
              "\n",
              "    [theme=dark] .colab-df-convert:hover {\n",
              "      background-color: #434B5C;\n",
              "      box-shadow: 0px 1px 3px 1px rgba(0, 0, 0, 0.15);\n",
              "      filter: drop-shadow(0px 1px 2px rgba(0, 0, 0, 0.3));\n",
              "      fill: #FFFFFF;\n",
              "    }\n",
              "  </style>\n",
              "\n",
              "      <script>\n",
              "        const buttonEl =\n",
              "          document.querySelector('#df-12fbccfd-79a0-4cde-ab5e-bd06872110e2 button.colab-df-convert');\n",
              "        buttonEl.style.display =\n",
              "          google.colab.kernel.accessAllowed ? 'block' : 'none';\n",
              "\n",
              "        async function convertToInteractive(key) {\n",
              "          const element = document.querySelector('#df-12fbccfd-79a0-4cde-ab5e-bd06872110e2');\n",
              "          const dataTable =\n",
              "            await google.colab.kernel.invokeFunction('convertToInteractive',\n",
              "                                                     [key], {});\n",
              "          if (!dataTable) return;\n",
              "\n",
              "          const docLinkHtml = 'Like what you see? Visit the ' +\n",
              "            '<a target=\"_blank\" href=https://colab.research.google.com/notebooks/data_table.ipynb>data table notebook</a>'\n",
              "            + ' to learn more about interactive tables.';\n",
              "          element.innerHTML = '';\n",
              "          dataTable['output_type'] = 'display_data';\n",
              "          await google.colab.output.renderOutput(dataTable, element);\n",
              "          const docLink = document.createElement('div');\n",
              "          docLink.innerHTML = docLinkHtml;\n",
              "          element.appendChild(docLink);\n",
              "        }\n",
              "      </script>\n",
              "    </div>\n",
              "  </div>\n",
              "  "
            ]
          },
          "metadata": {},
          "execution_count": 22
        }
      ]
    },
    {
      "metadata": {
        "id": "z6CcO9b2Nh35",
        "colab": {
          "base_uri": "https://localhost:8080/",
          "height": 300
        },
        "outputId": "712a5f91-4493-44a0-9bd3-fee608ab1081"
      },
      "cell_type": "code",
      "source": [
        "relevant_df = relevance_df[relevance_df['Relevant'] == 1]\n",
        "relevant_df.describe()"
      ],
      "execution_count": 23,
      "outputs": [
        {
          "output_type": "execute_result",
          "data": {
            "text/plain": [
              "            Terms        Rank   Sim Title   Sim Words  Sim Bigrams  \\\n",
              "count  159.000000  159.000000  159.000000  159.000000   159.000000   \n",
              "mean     3.251572   12.377358    0.094340    0.833580     0.796654   \n",
              "std      1.242540   11.076077    0.293224    0.368434     0.884322   \n",
              "min      1.000000    1.000000    0.000000    0.000000     0.000000   \n",
              "25%      2.500000    2.500000    0.000000    0.560626     0.504279   \n",
              "50%      3.000000    9.000000    0.000000    0.944621     0.582379   \n",
              "75%      4.000000   20.000000    0.000000    1.022896     0.857648   \n",
              "max      8.000000   40.000000    1.000000    3.130460     8.089949   \n",
              "\n",
              "       Bit Vector  Exact Match  Relevant  \n",
              "count  159.000000   159.000000     159.0  \n",
              "mean     0.920335     0.710692       1.0  \n",
              "std      0.255107     0.454874       0.0  \n",
              "min      0.000000     0.000000       1.0  \n",
              "25%      1.000000     0.000000       1.0  \n",
              "50%      1.000000     1.000000       1.0  \n",
              "75%      1.000000     1.000000       1.0  \n",
              "max      1.333333     1.000000       1.0  "
            ],
            "text/html": [
              "\n",
              "  <div id=\"df-e8b175b2-8765-4c3d-97c6-8e7ffc961c47\">\n",
              "    <div class=\"colab-df-container\">\n",
              "      <div>\n",
              "<style scoped>\n",
              "    .dataframe tbody tr th:only-of-type {\n",
              "        vertical-align: middle;\n",
              "    }\n",
              "\n",
              "    .dataframe tbody tr th {\n",
              "        vertical-align: top;\n",
              "    }\n",
              "\n",
              "    .dataframe thead th {\n",
              "        text-align: right;\n",
              "    }\n",
              "</style>\n",
              "<table border=\"1\" class=\"dataframe\">\n",
              "  <thead>\n",
              "    <tr style=\"text-align: right;\">\n",
              "      <th></th>\n",
              "      <th>Terms</th>\n",
              "      <th>Rank</th>\n",
              "      <th>Sim Title</th>\n",
              "      <th>Sim Words</th>\n",
              "      <th>Sim Bigrams</th>\n",
              "      <th>Bit Vector</th>\n",
              "      <th>Exact Match</th>\n",
              "      <th>Relevant</th>\n",
              "    </tr>\n",
              "  </thead>\n",
              "  <tbody>\n",
              "    <tr>\n",
              "      <th>count</th>\n",
              "      <td>159.000000</td>\n",
              "      <td>159.000000</td>\n",
              "      <td>159.000000</td>\n",
              "      <td>159.000000</td>\n",
              "      <td>159.000000</td>\n",
              "      <td>159.000000</td>\n",
              "      <td>159.000000</td>\n",
              "      <td>159.0</td>\n",
              "    </tr>\n",
              "    <tr>\n",
              "      <th>mean</th>\n",
              "      <td>3.251572</td>\n",
              "      <td>12.377358</td>\n",
              "      <td>0.094340</td>\n",
              "      <td>0.833580</td>\n",
              "      <td>0.796654</td>\n",
              "      <td>0.920335</td>\n",
              "      <td>0.710692</td>\n",
              "      <td>1.0</td>\n",
              "    </tr>\n",
              "    <tr>\n",
              "      <th>std</th>\n",
              "      <td>1.242540</td>\n",
              "      <td>11.076077</td>\n",
              "      <td>0.293224</td>\n",
              "      <td>0.368434</td>\n",
              "      <td>0.884322</td>\n",
              "      <td>0.255107</td>\n",
              "      <td>0.454874</td>\n",
              "      <td>0.0</td>\n",
              "    </tr>\n",
              "    <tr>\n",
              "      <th>min</th>\n",
              "      <td>1.000000</td>\n",
              "      <td>1.000000</td>\n",
              "      <td>0.000000</td>\n",
              "      <td>0.000000</td>\n",
              "      <td>0.000000</td>\n",
              "      <td>0.000000</td>\n",
              "      <td>0.000000</td>\n",
              "      <td>1.0</td>\n",
              "    </tr>\n",
              "    <tr>\n",
              "      <th>25%</th>\n",
              "      <td>2.500000</td>\n",
              "      <td>2.500000</td>\n",
              "      <td>0.000000</td>\n",
              "      <td>0.560626</td>\n",
              "      <td>0.504279</td>\n",
              "      <td>1.000000</td>\n",
              "      <td>0.000000</td>\n",
              "      <td>1.0</td>\n",
              "    </tr>\n",
              "    <tr>\n",
              "      <th>50%</th>\n",
              "      <td>3.000000</td>\n",
              "      <td>9.000000</td>\n",
              "      <td>0.000000</td>\n",
              "      <td>0.944621</td>\n",
              "      <td>0.582379</td>\n",
              "      <td>1.000000</td>\n",
              "      <td>1.000000</td>\n",
              "      <td>1.0</td>\n",
              "    </tr>\n",
              "    <tr>\n",
              "      <th>75%</th>\n",
              "      <td>4.000000</td>\n",
              "      <td>20.000000</td>\n",
              "      <td>0.000000</td>\n",
              "      <td>1.022896</td>\n",
              "      <td>0.857648</td>\n",
              "      <td>1.000000</td>\n",
              "      <td>1.000000</td>\n",
              "      <td>1.0</td>\n",
              "    </tr>\n",
              "    <tr>\n",
              "      <th>max</th>\n",
              "      <td>8.000000</td>\n",
              "      <td>40.000000</td>\n",
              "      <td>1.000000</td>\n",
              "      <td>3.130460</td>\n",
              "      <td>8.089949</td>\n",
              "      <td>1.333333</td>\n",
              "      <td>1.000000</td>\n",
              "      <td>1.0</td>\n",
              "    </tr>\n",
              "  </tbody>\n",
              "</table>\n",
              "</div>\n",
              "      <button class=\"colab-df-convert\" onclick=\"convertToInteractive('df-e8b175b2-8765-4c3d-97c6-8e7ffc961c47')\"\n",
              "              title=\"Convert this dataframe to an interactive table.\"\n",
              "              style=\"display:none;\">\n",
              "        \n",
              "  <svg xmlns=\"http://www.w3.org/2000/svg\" height=\"24px\"viewBox=\"0 0 24 24\"\n",
              "       width=\"24px\">\n",
              "    <path d=\"M0 0h24v24H0V0z\" fill=\"none\"/>\n",
              "    <path d=\"M18.56 5.44l.94 2.06.94-2.06 2.06-.94-2.06-.94-.94-2.06-.94 2.06-2.06.94zm-11 1L8.5 8.5l.94-2.06 2.06-.94-2.06-.94L8.5 2.5l-.94 2.06-2.06.94zm10 10l.94 2.06.94-2.06 2.06-.94-2.06-.94-.94-2.06-.94 2.06-2.06.94z\"/><path d=\"M17.41 7.96l-1.37-1.37c-.4-.4-.92-.59-1.43-.59-.52 0-1.04.2-1.43.59L10.3 9.45l-7.72 7.72c-.78.78-.78 2.05 0 2.83L4 21.41c.39.39.9.59 1.41.59.51 0 1.02-.2 1.41-.59l7.78-7.78 2.81-2.81c.8-.78.8-2.07 0-2.86zM5.41 20L4 18.59l7.72-7.72 1.47 1.35L5.41 20z\"/>\n",
              "  </svg>\n",
              "      </button>\n",
              "      \n",
              "  <style>\n",
              "    .colab-df-container {\n",
              "      display:flex;\n",
              "      flex-wrap:wrap;\n",
              "      gap: 12px;\n",
              "    }\n",
              "\n",
              "    .colab-df-convert {\n",
              "      background-color: #E8F0FE;\n",
              "      border: none;\n",
              "      border-radius: 50%;\n",
              "      cursor: pointer;\n",
              "      display: none;\n",
              "      fill: #1967D2;\n",
              "      height: 32px;\n",
              "      padding: 0 0 0 0;\n",
              "      width: 32px;\n",
              "    }\n",
              "\n",
              "    .colab-df-convert:hover {\n",
              "      background-color: #E2EBFA;\n",
              "      box-shadow: 0px 1px 2px rgba(60, 64, 67, 0.3), 0px 1px 3px 1px rgba(60, 64, 67, 0.15);\n",
              "      fill: #174EA6;\n",
              "    }\n",
              "\n",
              "    [theme=dark] .colab-df-convert {\n",
              "      background-color: #3B4455;\n",
              "      fill: #D2E3FC;\n",
              "    }\n",
              "\n",
              "    [theme=dark] .colab-df-convert:hover {\n",
              "      background-color: #434B5C;\n",
              "      box-shadow: 0px 1px 3px 1px rgba(0, 0, 0, 0.15);\n",
              "      filter: drop-shadow(0px 1px 2px rgba(0, 0, 0, 0.3));\n",
              "      fill: #FFFFFF;\n",
              "    }\n",
              "  </style>\n",
              "\n",
              "      <script>\n",
              "        const buttonEl =\n",
              "          document.querySelector('#df-e8b175b2-8765-4c3d-97c6-8e7ffc961c47 button.colab-df-convert');\n",
              "        buttonEl.style.display =\n",
              "          google.colab.kernel.accessAllowed ? 'block' : 'none';\n",
              "\n",
              "        async function convertToInteractive(key) {\n",
              "          const element = document.querySelector('#df-e8b175b2-8765-4c3d-97c6-8e7ffc961c47');\n",
              "          const dataTable =\n",
              "            await google.colab.kernel.invokeFunction('convertToInteractive',\n",
              "                                                     [key], {});\n",
              "          if (!dataTable) return;\n",
              "\n",
              "          const docLinkHtml = 'Like what you see? Visit the ' +\n",
              "            '<a target=\"_blank\" href=https://colab.research.google.com/notebooks/data_table.ipynb>data table notebook</a>'\n",
              "            + ' to learn more about interactive tables.';\n",
              "          element.innerHTML = '';\n",
              "          dataTable['output_type'] = 'display_data';\n",
              "          await google.colab.output.renderOutput(dataTable, element);\n",
              "          const docLink = document.createElement('div');\n",
              "          docLink.innerHTML = docLinkHtml;\n",
              "          element.appendChild(docLink);\n",
              "        }\n",
              "      </script>\n",
              "    </div>\n",
              "  </div>\n",
              "  "
            ]
          },
          "metadata": {},
          "execution_count": 23
        }
      ]
    },
    {
      "metadata": {
        "id": "_FxzHEKBNoqP",
        "colab": {
          "base_uri": "https://localhost:8080/",
          "height": 300
        },
        "outputId": "52e16afa-145c-4035-a8e4-23be19aa9702"
      },
      "cell_type": "code",
      "source": [
        "not_relevant_df = relevance_df[relevance_df['Relevant'] == 0]\n",
        "not_relevant_df.describe()"
      ],
      "execution_count": 24,
      "outputs": [
        {
          "output_type": "execute_result",
          "data": {
            "text/plain": [
              "            Terms        Rank  Sim Title   Sim Words  Sim Bigrams  Bit Vector  \\\n",
              "count  328.000000  328.000000      328.0  328.000000   328.000000  328.000000   \n",
              "mean     4.387195   23.914634        0.0    0.727864     0.471320    0.804177   \n",
              "std      1.793487   14.536636        0.0    0.350299     0.171865    0.163741   \n",
              "min      2.000000    1.000000        0.0    0.000000     0.000000    0.000000   \n",
              "25%      3.000000   11.000000        0.0    0.437221     0.341103    0.666700   \n",
              "50%      4.000000   23.000000        0.0    0.633005     0.459501    0.775000   \n",
              "75%      5.000000   36.000000        0.0    0.979430     0.536504    1.000000   \n",
              "max      8.000000   50.000000        0.0    2.093427     1.105218    1.333333   \n",
              "\n",
              "       Exact Match  Relevant  \n",
              "count        328.0     328.0  \n",
              "mean           0.0       0.0  \n",
              "std            0.0       0.0  \n",
              "min            0.0       0.0  \n",
              "25%            0.0       0.0  \n",
              "50%            0.0       0.0  \n",
              "75%            0.0       0.0  \n",
              "max            0.0       0.0  "
            ],
            "text/html": [
              "\n",
              "  <div id=\"df-c665d061-d916-4c90-b540-8d54c17b7b6b\">\n",
              "    <div class=\"colab-df-container\">\n",
              "      <div>\n",
              "<style scoped>\n",
              "    .dataframe tbody tr th:only-of-type {\n",
              "        vertical-align: middle;\n",
              "    }\n",
              "\n",
              "    .dataframe tbody tr th {\n",
              "        vertical-align: top;\n",
              "    }\n",
              "\n",
              "    .dataframe thead th {\n",
              "        text-align: right;\n",
              "    }\n",
              "</style>\n",
              "<table border=\"1\" class=\"dataframe\">\n",
              "  <thead>\n",
              "    <tr style=\"text-align: right;\">\n",
              "      <th></th>\n",
              "      <th>Terms</th>\n",
              "      <th>Rank</th>\n",
              "      <th>Sim Title</th>\n",
              "      <th>Sim Words</th>\n",
              "      <th>Sim Bigrams</th>\n",
              "      <th>Bit Vector</th>\n",
              "      <th>Exact Match</th>\n",
              "      <th>Relevant</th>\n",
              "    </tr>\n",
              "  </thead>\n",
              "  <tbody>\n",
              "    <tr>\n",
              "      <th>count</th>\n",
              "      <td>328.000000</td>\n",
              "      <td>328.000000</td>\n",
              "      <td>328.0</td>\n",
              "      <td>328.000000</td>\n",
              "      <td>328.000000</td>\n",
              "      <td>328.000000</td>\n",
              "      <td>328.0</td>\n",
              "      <td>328.0</td>\n",
              "    </tr>\n",
              "    <tr>\n",
              "      <th>mean</th>\n",
              "      <td>4.387195</td>\n",
              "      <td>23.914634</td>\n",
              "      <td>0.0</td>\n",
              "      <td>0.727864</td>\n",
              "      <td>0.471320</td>\n",
              "      <td>0.804177</td>\n",
              "      <td>0.0</td>\n",
              "      <td>0.0</td>\n",
              "    </tr>\n",
              "    <tr>\n",
              "      <th>std</th>\n",
              "      <td>1.793487</td>\n",
              "      <td>14.536636</td>\n",
              "      <td>0.0</td>\n",
              "      <td>0.350299</td>\n",
              "      <td>0.171865</td>\n",
              "      <td>0.163741</td>\n",
              "      <td>0.0</td>\n",
              "      <td>0.0</td>\n",
              "    </tr>\n",
              "    <tr>\n",
              "      <th>min</th>\n",
              "      <td>2.000000</td>\n",
              "      <td>1.000000</td>\n",
              "      <td>0.0</td>\n",
              "      <td>0.000000</td>\n",
              "      <td>0.000000</td>\n",
              "      <td>0.000000</td>\n",
              "      <td>0.0</td>\n",
              "      <td>0.0</td>\n",
              "    </tr>\n",
              "    <tr>\n",
              "      <th>25%</th>\n",
              "      <td>3.000000</td>\n",
              "      <td>11.000000</td>\n",
              "      <td>0.0</td>\n",
              "      <td>0.437221</td>\n",
              "      <td>0.341103</td>\n",
              "      <td>0.666700</td>\n",
              "      <td>0.0</td>\n",
              "      <td>0.0</td>\n",
              "    </tr>\n",
              "    <tr>\n",
              "      <th>50%</th>\n",
              "      <td>4.000000</td>\n",
              "      <td>23.000000</td>\n",
              "      <td>0.0</td>\n",
              "      <td>0.633005</td>\n",
              "      <td>0.459501</td>\n",
              "      <td>0.775000</td>\n",
              "      <td>0.0</td>\n",
              "      <td>0.0</td>\n",
              "    </tr>\n",
              "    <tr>\n",
              "      <th>75%</th>\n",
              "      <td>5.000000</td>\n",
              "      <td>36.000000</td>\n",
              "      <td>0.0</td>\n",
              "      <td>0.979430</td>\n",
              "      <td>0.536504</td>\n",
              "      <td>1.000000</td>\n",
              "      <td>0.0</td>\n",
              "      <td>0.0</td>\n",
              "    </tr>\n",
              "    <tr>\n",
              "      <th>max</th>\n",
              "      <td>8.000000</td>\n",
              "      <td>50.000000</td>\n",
              "      <td>0.0</td>\n",
              "      <td>2.093427</td>\n",
              "      <td>1.105218</td>\n",
              "      <td>1.333333</td>\n",
              "      <td>0.0</td>\n",
              "      <td>0.0</td>\n",
              "    </tr>\n",
              "  </tbody>\n",
              "</table>\n",
              "</div>\n",
              "      <button class=\"colab-df-convert\" onclick=\"convertToInteractive('df-c665d061-d916-4c90-b540-8d54c17b7b6b')\"\n",
              "              title=\"Convert this dataframe to an interactive table.\"\n",
              "              style=\"display:none;\">\n",
              "        \n",
              "  <svg xmlns=\"http://www.w3.org/2000/svg\" height=\"24px\"viewBox=\"0 0 24 24\"\n",
              "       width=\"24px\">\n",
              "    <path d=\"M0 0h24v24H0V0z\" fill=\"none\"/>\n",
              "    <path d=\"M18.56 5.44l.94 2.06.94-2.06 2.06-.94-2.06-.94-.94-2.06-.94 2.06-2.06.94zm-11 1L8.5 8.5l.94-2.06 2.06-.94-2.06-.94L8.5 2.5l-.94 2.06-2.06.94zm10 10l.94 2.06.94-2.06 2.06-.94-2.06-.94-.94-2.06-.94 2.06-2.06.94z\"/><path d=\"M17.41 7.96l-1.37-1.37c-.4-.4-.92-.59-1.43-.59-.52 0-1.04.2-1.43.59L10.3 9.45l-7.72 7.72c-.78.78-.78 2.05 0 2.83L4 21.41c.39.39.9.59 1.41.59.51 0 1.02-.2 1.41-.59l7.78-7.78 2.81-2.81c.8-.78.8-2.07 0-2.86zM5.41 20L4 18.59l7.72-7.72 1.47 1.35L5.41 20z\"/>\n",
              "  </svg>\n",
              "      </button>\n",
              "      \n",
              "  <style>\n",
              "    .colab-df-container {\n",
              "      display:flex;\n",
              "      flex-wrap:wrap;\n",
              "      gap: 12px;\n",
              "    }\n",
              "\n",
              "    .colab-df-convert {\n",
              "      background-color: #E8F0FE;\n",
              "      border: none;\n",
              "      border-radius: 50%;\n",
              "      cursor: pointer;\n",
              "      display: none;\n",
              "      fill: #1967D2;\n",
              "      height: 32px;\n",
              "      padding: 0 0 0 0;\n",
              "      width: 32px;\n",
              "    }\n",
              "\n",
              "    .colab-df-convert:hover {\n",
              "      background-color: #E2EBFA;\n",
              "      box-shadow: 0px 1px 2px rgba(60, 64, 67, 0.3), 0px 1px 3px 1px rgba(60, 64, 67, 0.15);\n",
              "      fill: #174EA6;\n",
              "    }\n",
              "\n",
              "    [theme=dark] .colab-df-convert {\n",
              "      background-color: #3B4455;\n",
              "      fill: #D2E3FC;\n",
              "    }\n",
              "\n",
              "    [theme=dark] .colab-df-convert:hover {\n",
              "      background-color: #434B5C;\n",
              "      box-shadow: 0px 1px 3px 1px rgba(0, 0, 0, 0.15);\n",
              "      filter: drop-shadow(0px 1px 2px rgba(0, 0, 0, 0.3));\n",
              "      fill: #FFFFFF;\n",
              "    }\n",
              "  </style>\n",
              "\n",
              "      <script>\n",
              "        const buttonEl =\n",
              "          document.querySelector('#df-c665d061-d916-4c90-b540-8d54c17b7b6b button.colab-df-convert');\n",
              "        buttonEl.style.display =\n",
              "          google.colab.kernel.accessAllowed ? 'block' : 'none';\n",
              "\n",
              "        async function convertToInteractive(key) {\n",
              "          const element = document.querySelector('#df-c665d061-d916-4c90-b540-8d54c17b7b6b');\n",
              "          const dataTable =\n",
              "            await google.colab.kernel.invokeFunction('convertToInteractive',\n",
              "                                                     [key], {});\n",
              "          if (!dataTable) return;\n",
              "\n",
              "          const docLinkHtml = 'Like what you see? Visit the ' +\n",
              "            '<a target=\"_blank\" href=https://colab.research.google.com/notebooks/data_table.ipynb>data table notebook</a>'\n",
              "            + ' to learn more about interactive tables.';\n",
              "          element.innerHTML = '';\n",
              "          dataTable['output_type'] = 'display_data';\n",
              "          await google.colab.output.renderOutput(dataTable, element);\n",
              "          const docLink = document.createElement('div');\n",
              "          docLink.innerHTML = docLinkHtml;\n",
              "          element.appendChild(docLink);\n",
              "        }\n",
              "      </script>\n",
              "    </div>\n",
              "  </div>\n",
              "  "
            ]
          },
          "metadata": {},
          "execution_count": 24
        }
      ]
    },
    {
      "metadata": {
        "id": "bSpRA_d5PTgG",
        "colab": {
          "base_uri": "https://localhost:8080/",
          "height": 335
        },
        "outputId": "145c6f63-bb28-4172-b371-5ff6e5e5e606"
      },
      "cell_type": "code",
      "source": [
        "relevant_exact_df = relevant_df[relevance_df['Exact Match'] == 1]\n",
        "relevant_exact_df.describe()"
      ],
      "execution_count": 25,
      "outputs": [
        {
          "output_type": "stream",
          "name": "stderr",
          "text": [
            "/usr/local/lib/python3.7/dist-packages/ipykernel_launcher.py:1: UserWarning: Boolean Series key will be reindexed to match DataFrame index.\n",
            "  \"\"\"Entry point for launching an IPython kernel.\n"
          ]
        },
        {
          "output_type": "execute_result",
          "data": {
            "text/plain": [
              "            Terms        Rank   Sim Title   Sim Words  Sim Bigrams  \\\n",
              "count  113.000000  113.000000  113.000000  113.000000   113.000000   \n",
              "mean     3.176991    9.044248    0.132743    0.763446     0.906009   \n",
              "std      1.357717    8.955634    0.340809    0.399335     1.027256   \n",
              "min      1.000000    1.000000    0.000000    0.000000     0.000000   \n",
              "25%      2.000000    1.000000    0.000000    0.544925     0.546481   \n",
              "50%      3.000000    6.000000    0.000000    0.824415     0.679953   \n",
              "75%      4.000000   14.000000    0.000000    1.000000     0.968682   \n",
              "max      8.000000   37.000000    1.000000    3.130460     8.089949   \n",
              "\n",
              "       Bit Vector  Exact Match  Relevant  \n",
              "count  113.000000        113.0     113.0  \n",
              "mean     0.906342          1.0       1.0  \n",
              "std      0.291907          0.0       0.0  \n",
              "min      0.000000          1.0       1.0  \n",
              "25%      1.000000          1.0       1.0  \n",
              "50%      1.000000          1.0       1.0  \n",
              "75%      1.000000          1.0       1.0  \n",
              "max      1.333333          1.0       1.0  "
            ],
            "text/html": [
              "\n",
              "  <div id=\"df-8a14f562-3536-487b-ae4f-1340cf095cb8\">\n",
              "    <div class=\"colab-df-container\">\n",
              "      <div>\n",
              "<style scoped>\n",
              "    .dataframe tbody tr th:only-of-type {\n",
              "        vertical-align: middle;\n",
              "    }\n",
              "\n",
              "    .dataframe tbody tr th {\n",
              "        vertical-align: top;\n",
              "    }\n",
              "\n",
              "    .dataframe thead th {\n",
              "        text-align: right;\n",
              "    }\n",
              "</style>\n",
              "<table border=\"1\" class=\"dataframe\">\n",
              "  <thead>\n",
              "    <tr style=\"text-align: right;\">\n",
              "      <th></th>\n",
              "      <th>Terms</th>\n",
              "      <th>Rank</th>\n",
              "      <th>Sim Title</th>\n",
              "      <th>Sim Words</th>\n",
              "      <th>Sim Bigrams</th>\n",
              "      <th>Bit Vector</th>\n",
              "      <th>Exact Match</th>\n",
              "      <th>Relevant</th>\n",
              "    </tr>\n",
              "  </thead>\n",
              "  <tbody>\n",
              "    <tr>\n",
              "      <th>count</th>\n",
              "      <td>113.000000</td>\n",
              "      <td>113.000000</td>\n",
              "      <td>113.000000</td>\n",
              "      <td>113.000000</td>\n",
              "      <td>113.000000</td>\n",
              "      <td>113.000000</td>\n",
              "      <td>113.0</td>\n",
              "      <td>113.0</td>\n",
              "    </tr>\n",
              "    <tr>\n",
              "      <th>mean</th>\n",
              "      <td>3.176991</td>\n",
              "      <td>9.044248</td>\n",
              "      <td>0.132743</td>\n",
              "      <td>0.763446</td>\n",
              "      <td>0.906009</td>\n",
              "      <td>0.906342</td>\n",
              "      <td>1.0</td>\n",
              "      <td>1.0</td>\n",
              "    </tr>\n",
              "    <tr>\n",
              "      <th>std</th>\n",
              "      <td>1.357717</td>\n",
              "      <td>8.955634</td>\n",
              "      <td>0.340809</td>\n",
              "      <td>0.399335</td>\n",
              "      <td>1.027256</td>\n",
              "      <td>0.291907</td>\n",
              "      <td>0.0</td>\n",
              "      <td>0.0</td>\n",
              "    </tr>\n",
              "    <tr>\n",
              "      <th>min</th>\n",
              "      <td>1.000000</td>\n",
              "      <td>1.000000</td>\n",
              "      <td>0.000000</td>\n",
              "      <td>0.000000</td>\n",
              "      <td>0.000000</td>\n",
              "      <td>0.000000</td>\n",
              "      <td>1.0</td>\n",
              "      <td>1.0</td>\n",
              "    </tr>\n",
              "    <tr>\n",
              "      <th>25%</th>\n",
              "      <td>2.000000</td>\n",
              "      <td>1.000000</td>\n",
              "      <td>0.000000</td>\n",
              "      <td>0.544925</td>\n",
              "      <td>0.546481</td>\n",
              "      <td>1.000000</td>\n",
              "      <td>1.0</td>\n",
              "      <td>1.0</td>\n",
              "    </tr>\n",
              "    <tr>\n",
              "      <th>50%</th>\n",
              "      <td>3.000000</td>\n",
              "      <td>6.000000</td>\n",
              "      <td>0.000000</td>\n",
              "      <td>0.824415</td>\n",
              "      <td>0.679953</td>\n",
              "      <td>1.000000</td>\n",
              "      <td>1.0</td>\n",
              "      <td>1.0</td>\n",
              "    </tr>\n",
              "    <tr>\n",
              "      <th>75%</th>\n",
              "      <td>4.000000</td>\n",
              "      <td>14.000000</td>\n",
              "      <td>0.000000</td>\n",
              "      <td>1.000000</td>\n",
              "      <td>0.968682</td>\n",
              "      <td>1.000000</td>\n",
              "      <td>1.0</td>\n",
              "      <td>1.0</td>\n",
              "    </tr>\n",
              "    <tr>\n",
              "      <th>max</th>\n",
              "      <td>8.000000</td>\n",
              "      <td>37.000000</td>\n",
              "      <td>1.000000</td>\n",
              "      <td>3.130460</td>\n",
              "      <td>8.089949</td>\n",
              "      <td>1.333333</td>\n",
              "      <td>1.0</td>\n",
              "      <td>1.0</td>\n",
              "    </tr>\n",
              "  </tbody>\n",
              "</table>\n",
              "</div>\n",
              "      <button class=\"colab-df-convert\" onclick=\"convertToInteractive('df-8a14f562-3536-487b-ae4f-1340cf095cb8')\"\n",
              "              title=\"Convert this dataframe to an interactive table.\"\n",
              "              style=\"display:none;\">\n",
              "        \n",
              "  <svg xmlns=\"http://www.w3.org/2000/svg\" height=\"24px\"viewBox=\"0 0 24 24\"\n",
              "       width=\"24px\">\n",
              "    <path d=\"M0 0h24v24H0V0z\" fill=\"none\"/>\n",
              "    <path d=\"M18.56 5.44l.94 2.06.94-2.06 2.06-.94-2.06-.94-.94-2.06-.94 2.06-2.06.94zm-11 1L8.5 8.5l.94-2.06 2.06-.94-2.06-.94L8.5 2.5l-.94 2.06-2.06.94zm10 10l.94 2.06.94-2.06 2.06-.94-2.06-.94-.94-2.06-.94 2.06-2.06.94z\"/><path d=\"M17.41 7.96l-1.37-1.37c-.4-.4-.92-.59-1.43-.59-.52 0-1.04.2-1.43.59L10.3 9.45l-7.72 7.72c-.78.78-.78 2.05 0 2.83L4 21.41c.39.39.9.59 1.41.59.51 0 1.02-.2 1.41-.59l7.78-7.78 2.81-2.81c.8-.78.8-2.07 0-2.86zM5.41 20L4 18.59l7.72-7.72 1.47 1.35L5.41 20z\"/>\n",
              "  </svg>\n",
              "      </button>\n",
              "      \n",
              "  <style>\n",
              "    .colab-df-container {\n",
              "      display:flex;\n",
              "      flex-wrap:wrap;\n",
              "      gap: 12px;\n",
              "    }\n",
              "\n",
              "    .colab-df-convert {\n",
              "      background-color: #E8F0FE;\n",
              "      border: none;\n",
              "      border-radius: 50%;\n",
              "      cursor: pointer;\n",
              "      display: none;\n",
              "      fill: #1967D2;\n",
              "      height: 32px;\n",
              "      padding: 0 0 0 0;\n",
              "      width: 32px;\n",
              "    }\n",
              "\n",
              "    .colab-df-convert:hover {\n",
              "      background-color: #E2EBFA;\n",
              "      box-shadow: 0px 1px 2px rgba(60, 64, 67, 0.3), 0px 1px 3px 1px rgba(60, 64, 67, 0.15);\n",
              "      fill: #174EA6;\n",
              "    }\n",
              "\n",
              "    [theme=dark] .colab-df-convert {\n",
              "      background-color: #3B4455;\n",
              "      fill: #D2E3FC;\n",
              "    }\n",
              "\n",
              "    [theme=dark] .colab-df-convert:hover {\n",
              "      background-color: #434B5C;\n",
              "      box-shadow: 0px 1px 3px 1px rgba(0, 0, 0, 0.15);\n",
              "      filter: drop-shadow(0px 1px 2px rgba(0, 0, 0, 0.3));\n",
              "      fill: #FFFFFF;\n",
              "    }\n",
              "  </style>\n",
              "\n",
              "      <script>\n",
              "        const buttonEl =\n",
              "          document.querySelector('#df-8a14f562-3536-487b-ae4f-1340cf095cb8 button.colab-df-convert');\n",
              "        buttonEl.style.display =\n",
              "          google.colab.kernel.accessAllowed ? 'block' : 'none';\n",
              "\n",
              "        async function convertToInteractive(key) {\n",
              "          const element = document.querySelector('#df-8a14f562-3536-487b-ae4f-1340cf095cb8');\n",
              "          const dataTable =\n",
              "            await google.colab.kernel.invokeFunction('convertToInteractive',\n",
              "                                                     [key], {});\n",
              "          if (!dataTable) return;\n",
              "\n",
              "          const docLinkHtml = 'Like what you see? Visit the ' +\n",
              "            '<a target=\"_blank\" href=https://colab.research.google.com/notebooks/data_table.ipynb>data table notebook</a>'\n",
              "            + ' to learn more about interactive tables.';\n",
              "          element.innerHTML = '';\n",
              "          dataTable['output_type'] = 'display_data';\n",
              "          await google.colab.output.renderOutput(dataTable, element);\n",
              "          const docLink = document.createElement('div');\n",
              "          docLink.innerHTML = docLinkHtml;\n",
              "          element.appendChild(docLink);\n",
              "        }\n",
              "      </script>\n",
              "    </div>\n",
              "  </div>\n",
              "  "
            ]
          },
          "metadata": {},
          "execution_count": 25
        }
      ]
    },
    {
      "metadata": {
        "id": "puNirNIwPt8G",
        "colab": {
          "base_uri": "https://localhost:8080/",
          "height": 296
        },
        "outputId": "1276258b-80c7-4ed6-b097-67abd193dbc6"
      },
      "cell_type": "code",
      "source": [
        "ax = relevant_df.plot.scatter(x = 'Sim Words', y = 'Sim Bigrams', color='Blue', label='Relevant')\n",
        "not_relevant_df.plot.scatter(x = 'Sim Words', y = 'Sim Bigrams', color='Red', label='Not Relevant', ax=ax)"
      ],
      "execution_count": 26,
      "outputs": [
        {
          "output_type": "execute_result",
          "data": {
            "text/plain": [
              "<matplotlib.axes._subplots.AxesSubplot at 0x7f23034b7750>"
            ]
          },
          "metadata": {},
          "execution_count": 26
        },
        {
          "output_type": "display_data",
          "data": {
            "text/plain": [
              "<Figure size 432x288 with 1 Axes>"
            ],
            "image/png": "[encoded data removed]"
          },
          "metadata": {
            "needs_background": "light"
          }
        }
      ]
    },
    {
      "metadata": {
        "id": "fstsg8XPD7rf"
      },
      "cell_type": "markdown",
      "source": [
        "## Prediction of Relevance\n",
        "Training the results using logistic regression (Géron 2017, pp. 136-140). "
      ]
    },
    {
      "metadata": {
        "id": "w4QGlmEPXgGZ"
      },
      "cell_type": "markdown",
      "source": [
        "### Using only BM25 with Bigrams\n",
        "Try with only bigram based BM25 to begin with to see how predicted classifications vary with only one parameter."
      ]
    },
    {
      "metadata": {
        "id": "YtmZqut9RBB2",
        "colab": {
          "base_uri": "https://localhost:8080/"
        },
        "outputId": "21d8fb88-cce7-447e-f384-7691392fcf08"
      },
      "cell_type": "code",
      "source": [
        "from sklearn.linear_model import LogisticRegression\n",
        "\n",
        "# Train\n",
        "X = relevance_df[\"Sim Bigrams\"]\n",
        "X = X[:, np.newaxis]\n",
        "y = relevance_df[\"Relevant\"]\n",
        "model = LogisticRegression()\n",
        "model.fit(X, y)\n",
        "print(\"Intercept: \", model.intercept_)\n",
        "print(\"Coeficient: \", model.coef_)"
      ],
      "execution_count": 27,
      "outputs": [
        {
          "output_type": "stream",
          "name": "stdout",
          "text": [
            "Intercept:  [-2.27729711]\n",
            "Coeficient:  [[2.79853154]]\n"
          ]
        },
        {
          "output_type": "stream",
          "name": "stderr",
          "text": [
            "/usr/local/lib/python3.7/dist-packages/ipykernel_launcher.py:5: FutureWarning: Support for multi-dimensional indexing (e.g. `obj[:, None]`) is deprecated and will be removed in a future version.  Convert to a numpy array before indexing instead.\n",
            "  \"\"\"\n"
          ]
        }
      ]
    },
    {
      "metadata": {
        "id": "0MSmGsZSeqx5",
        "colab": {
          "base_uri": "https://localhost:8080/",
          "height": 298
        },
        "outputId": "7e7daaf6-a20c-4c9c-c785-f51009d6821b"
      },
      "cell_type": "code",
      "source": [
        "# Plot results\n",
        "X_p = np.linspace(0, 2, 1000).reshape(-1, 1)\n",
        "y_p = model.predict_proba(X_p)\n",
        "fig = plt.figure()\n",
        "ax = fig.add_subplot(1, 1, 1)\n",
        "ax.plot(X_p, y_p[:, 1], \"g-\", label=\"Relevant\")\n",
        "ax.plot(X_p, y_p[:, 0], \"b--\", label=\"Not Relevant\")\n",
        "ax.legend(loc = \"best\")\n",
        "#ax.set_title(\"Predicted Probability with Bigram BM25\")\n",
        "ax.set_xlabel(\"Bigram BM25\")\n",
        "ax.set_ylabel(\"Probability\")"
      ],
      "execution_count": 28,
      "outputs": [
        {
          "output_type": "execute_result",
          "data": {
            "text/plain": [
              "Text(0, 0.5, 'Probability')"
            ]
          },
          "metadata": {},
          "execution_count": 28
        },
        {
          "output_type": "display_data",
          "data": {
            "text/plain": [
              "<Figure size 432x288 with 1 Axes>"
            ],
            "image/png": "[encoded data removed]"
          },
          "metadata": {
            "needs_background": "light"
          }
        }
      ]
    },
    {
      "metadata": {
        "id": "aC91C4Eodgtc",
        "colab": {
          "base_uri": "https://localhost:8080/"
        },
        "outputId": "f1e9798a-b888-4413-9741-de8ebabb1a85"
      },
      "cell_type": "code",
      "source": [
        "# Validate the decision boundary using formula from (Agresti 2013, p. 120)\n",
        "\n",
        "from math import exp\n",
        "\n",
        "a = model.intercept_\n",
        "b = model.coef_[0]\n",
        "x = 0.8\n",
        "pi = exp(a + b * x) / (1 + exp(a + b * x))\n",
        "print(\"Probability: {:3.2f}\".format(pi))"
      ],
      "execution_count": 12,
      "outputs": [
        {
          "output_type": "stream",
          "name": "stdout",
          "text": [
            "Probability: 0.51\n"
          ]
        }
      ]
    },
    {
      "metadata": {
        "id": "Y24SSkGmXz-a"
      },
      "cell_type": "markdown",
      "source": [
        "### Prediction with Multiple Vector Space Parameters\n",
        "Train a logistic regression model with relevance data using BM25 for both individual words and bigrams and bit vector dot products for words."
      ]
    },
    {
      "metadata": {
        "id": "oCQguDAXXcbY",
        "colab": {
          "base_uri": "https://localhost:8080/"
        },
        "outputId": "ae999ac3-e0d4-4e03-cb6c-c52eb235d0b8"
      },
      "cell_type": "code",
      "source": [
        "X1 = relevance_df[\"Sim Words\"]\n",
        "X2 = relevance_df[\"Sim Bigrams\"]\n",
        "X3 = relevance_df[\"Bit Vector\"]\n",
        "X4 = relevance_df[\"Sim Title\"]\n",
        "X = np.array([X1, X2, X3, X4], np.float32)\n",
        "X = np.transpose(X)\n",
        "y = relevance_df[\"Relevant\"]\n",
        "model = LogisticRegression()\n",
        "model.fit(X, y)\n",
        "print(\"Intercept: \", model.intercept_)\n",
        "print(\"Coefficients: \", model.coef_)"
      ],
      "execution_count": 34,
      "outputs": [
        {
          "output_type": "stream",
          "name": "stdout",
          "text": [
            "Intercept:  [-5.80042096]\n",
            "Coefficients:  [[0.3606522  2.4427158  3.84494291 2.74137199]]\n"
          ]
        }
      ]
    },
    {
      "metadata": {
        "id": "84J_1DzvZaEK"
      },
      "cell_type": "code",
      "source": [
        "X_val = np.array([[1.0, 1.0, 1.0], [0.2, 0.2, 0.2]])\n",
        "y_val = model.predict(X_val)\n",
        "y_val"
      ],
      "execution_count": null,
      "outputs": []
    },
    {
      "metadata": {
        "id": "arW2yvS4e-8r",
        "colab": {
          "base_uri": "https://localhost:8080/"
        },
        "outputId": "a6147d85-ffe2-44f0-e994-35b6039b7a5b"
      },
      "cell_type": "code",
      "source": [
        "p = model.predict_proba(X_val)\n",
        "p"
      ],
      "execution_count": 31,
      "outputs": [
        {
          "output_type": "execute_result",
          "data": {
            "text/plain": [
              "array([[0.28711217, 0.71288783],\n",
              "       [0.98740486, 0.01259514]])"
            ]
          },
          "metadata": {},
          "execution_count": 31
        }
      ]
    },
    {
      "metadata": {
        "id": "a5TDWlva8FkG",
        "colab": {
          "base_uri": "https://localhost:8080/"
        },
        "outputId": "af37ecfe-a25f-4ad6-b9b5-4383968647bf"
      },
      "cell_type": "code",
      "source": [
        "# Calculate using multiplication\n",
        "y_v = model.coef_.dot(X_val[0])\n",
        "y_v"
      ],
      "execution_count": 16,
      "outputs": [
        {
          "output_type": "execute_result",
          "data": {
            "text/plain": [
              "array([7.3727081])"
            ]
          },
          "metadata": {},
          "execution_count": 16
        }
      ]
    },
    {
      "metadata": {
        "id": "39wmRQITXIlP",
        "colab": {
          "base_uri": "https://localhost:8080/"
        },
        "outputId": "7c264733-1752-4717-b890-b117679a63e3"
      },
      "cell_type": "code",
      "source": [
        "from sklearn.metrics import confusion_matrix\n",
        "\n",
        "y_pred = model.predict(X)\n",
        "confusion_matrix(y, y_pred)"
      ],
      "execution_count": 32,
      "outputs": [
        {
          "output_type": "execute_result",
          "data": {
            "text/plain": [
              "array([[301,  27],\n",
              "       [ 95,  64]])"
            ]
          },
          "metadata": {},
          "execution_count": 32
        }
      ]
    },
    {
      "metadata": {
        "id": "mKsRp4qSZ_Z1",
        "colab": {
          "base_uri": "https://localhost:8080/"
        },
        "outputId": "48c33d56-7c33-4db5-ef43-4ddd46db172b"
      },
      "cell_type": "code",
      "source": [
        "from sklearn.metrics import classification_report\n",
        "\n",
        "target_names = [\"Not relevant\", \"Relevant\"]\n",
        "print(classification_report(y, y_pred, target_names=target_names))"
      ],
      "execution_count": 33,
      "outputs": [
        {
          "output_type": "stream",
          "name": "stdout",
          "text": [
            "              precision    recall  f1-score   support\n",
            "\n",
            "Not relevant       0.76      0.92      0.83       328\n",
            "    Relevant       0.70      0.40      0.51       159\n",
            "\n",
            "    accuracy                           0.75       487\n",
            "   macro avg       0.73      0.66      0.67       487\n",
            "weighted avg       0.74      0.75      0.73       487\n",
            "\n"
          ]
        }
      ]
    },
    {
      "metadata": {
        "id": "3HLlycM-4Ulq"
      },
      "cell_type": "markdown",
      "source": [
        "### Prediction with Word Frequency Parameters\n",
        "Train a logistic regression model with relevance data using BM25 for individual words and bigrams and bit vector dot products for words."
      ]
    },
    {
      "metadata": {
        "id": "RQlVIy5w4sGy",
        "colab": {
          "base_uri": "https://localhost:8080/"
        },
        "outputId": "158b04de-7cca-4665-fe1e-bf5aec3643cb"
      },
      "cell_type": "code",
      "source": [
        "X1 = relevance_df[\"Sim Words\"]\n",
        "X2 = relevance_df[\"Bit Vector\"]\n",
        "X = np.array([X1, X2], np.float32)\n",
        "X = np.transpose(X)\n",
        "y = relevance_df[\"Relevant\"]\n",
        "model = LogisticRegression()\n",
        "model.fit(X, y)\n",
        "print(\"Intercept: \", model.intercept_)\n",
        "print(\"Coefficients: \", model.coef_)"
      ],
      "execution_count": 19,
      "outputs": [
        {
          "output_type": "stream",
          "name": "stdout",
          "text": [
            "Intercept:  [-5.32270287]\n",
            "Coefficients:  [[0.34322025 4.78587803]]\n"
          ]
        }
      ]
    },
    {
      "metadata": {
        "id": "iwu0Y0YL3JHr"
      },
      "cell_type": "markdown",
      "source": [
        "## References\n",
        "1. Agresti, Alan 2013, *Categorical Data Analysis*, John Wiley & Sons.\n",
        "\n",
        "2. Géron, Aurélien 2017, *Hands-On Machine Learning with Scikit-Learn and TensorFlow: Concepts, Tools, and Techniques to Build Intelligent Systems*, Kindle ed., O’Reilly Media, Inc.\n",
        "\n",
        "3. Robertson, Stephen and Hugo Zaragoza 2009, \"The Probabilistic Relevance Framework: BM25 and Beyond\", *Foundations and Trends in Information Retrieval*: Vol. 3: No. 4, pp 333-389. http://dx.doi.org/10.1561/1500000019.\n",
        "\n",
        "4. Zhai, Chengxiang and Sean Massung 2016, *Text Data Management and Analysis: A Practical Introduction to Information Retrieval and Text Mining*, Association for Computing Machinery; Morgan & Claypool.\n"
      ]
    },
    {
      "metadata": {
        "id": "1Y9tbyli3j_Y"
      },
      "cell_type": "code",
      "source": [
        ""
      ],
      "execution_count": null,
      "outputs": []
    }
  ]
}