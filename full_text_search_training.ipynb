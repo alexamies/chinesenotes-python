{
  "nbformat": 4,
  "nbformat_minor": 0,
  "metadata": {
    "colab": {
      "name": "querying_cnotes.ipynb",
      "provenance": [],
      "collapsed_sections": [
        "fR36aLE7AkKm"
      ],
      "include_colab_link": true
    },
    "kernelspec": {
      "name": "python3",
      "display_name": "Python 3"
    }
  },
  "cells": [
    {
      "cell_type": "markdown",
      "metadata": {
        "id": "view-in-github",
        "colab_type": "text"
      },
      "source": [
        "<a href=\"https://colab.research.google.com/github/alexamies/chinesenotes-python/blob/master/full_text_search_training.ipynb\" target=\"_parent\"><img src=\"https://colab.research.google.com/assets/colab-badge.svg\" alt=\"Open In Colab\"/></a>"
      ]
    },
    {
      "metadata": {
        "id": "9GQtWkq5-6-B"
      },
      "cell_type": "markdown",
      "source": [
        "# Querying a Chinese Corpus\n",
        "Demonstrates querying the Chinese Notes corpus based on titles, word frequency, and bigram frequency."
      ]
    },
    {
      "metadata": {
        "id": "XyOMzCnP_rmA"
      },
      "cell_type": "markdown",
      "source": [
        "## Setup\n",
        "Common imports"
      ]
    },
    {
      "metadata": {
        "id": "FByqNkIS_Lfd"
      },
      "cell_type": "code",
      "source": [
        "import numpy as np\n",
        "import pandas as pd\n",
        "import matplotlib.pyplot as plt"
      ],
      "execution_count": null,
      "outputs": []
    },
    {
      "metadata": {
        "id": "fR36aLE7AkKm"
      },
      "cell_type": "markdown",
      "source": [
        "## Vector Space Model\n",
        "This section demonstrates how to compute the values for BM25, which is a measure of vector space similarity. BM25 is regarded as one of the best models for document similarity (Robertson and Zaragoza 2009, p. 333). The BM25 formula is also explained by Zhai and Massung (2016, loc. 2423). First load the \n",
        "document and index data into BigQuery using the instructions in the \n",
        "[index/README.md](https://github.com/alexamies/chinesenotes.com/blob/master/index/README.md)\n",
        "file."
      ]
    },
    {
      "metadata": {
        "id": "OFjJ3fls_3Pk",
        "colab": {
          "base_uri": "https://localhost:8080/",
          "height": 34
        },
        "outputId": "295240cb-a175-4551-b556-2b34848b2db9"
      },
      "cell_type": "code",
      "source": [
        "project_id = \"YOUR PROJECT ID\"\n",
        "!gcloud config set project {project_id}\n",
        "\n",
        "import os\n",
        "os.environ['GOOGLE_CLOUD_PROJECT'] = project_id\n",
        "\n",
        "from google.colab import auth\n",
        "auth.authenticate_user()\n"
      ],
      "execution_count": null,
      "outputs": [
        {
          "output_type": "stream",
          "text": [
            "Updated property [core/project].\r\n"
          ],
          "name": "stdout"
        }
      ]
    },
    {
      "metadata": {
        "id": "kJdgm4DQH2ck"
      },
      "cell_type": "markdown",
      "source": [
        "Example query with three terms with k = 1.5, b = 0.65"
      ]
    },
    {
      "metadata": {
        "id": "0n3L3sDXGWiG"
      },
      "cell_type": "code",
      "source": [
        "query = \"莫如樹人\"\n",
        "terms = [\"莫如\",\"樹\", \"人\"]\n",
        "bigram = [terms[0] + terms[1], terms[1] + terms[2]]\n",
        "avdl = 4497.0 # Average document length"
      ],
      "execution_count": null,
      "outputs": []
    },
    {
      "metadata": {
        "id": "_4ufxRC3A4Ef",
        "colab": {
          "base_uri": "https://localhost:8080/",
          "height": 204
        },
        "outputId": "cf182e3f-b715-40a1-8d1e-b1ca936eb67d"
      },
      "cell_type": "code",
      "source": [
        "word_freq_df3u = pd.io.gbq.read_gbq('''\n",
        "  SELECT\n",
        "    SUM((1.5 + 1) * frequency * idf / (frequency + 1.5 * (1 - 0.65 + 0.65 * (doc_len / %f)))) AS bm25,\n",
        "    document\n",
        "  FROM\n",
        "    [cnreader.word_freq_doc]\n",
        "  WHERE\n",
        "    (word = '%s' OR word = '%s' OR word = '%s')\n",
        "  GROUP BY document \n",
        "  ORDER BY bm25 DESC LIMIT 5000\n",
        "''' % (avdl, terms[0], terms[1], terms[2]), project_id=project_id)\n",
        "word_freq_df3u.head(5)"
      ],
      "execution_count": null,
      "outputs": [
        {
          "output_type": "execute_result",
          "data": {
            "text/html": [
              "<div>\n",
              "<style scoped>\n",
              "    .dataframe tbody tr th:only-of-type {\n",
              "        vertical-align: middle;\n",
              "    }\n",
              "\n",
              "    .dataframe tbody tr th {\n",
              "        vertical-align: top;\n",
              "    }\n",
              "\n",
              "    .dataframe thead th {\n",
              "        text-align: right;\n",
              "    }\n",
              "</style>\n",
              "<table border=\"1\" class=\"dataframe\">\n",
              "  <thead>\n",
              "    <tr style=\"text-align: right;\">\n",
              "      <th></th>\n",
              "      <th>bm25</th>\n",
              "      <th>document</th>\n",
              "    </tr>\n",
              "  </thead>\n",
              "  <tbody>\n",
              "    <tr>\n",
              "      <th>0</th>\n",
              "      <td>4.148233</td>\n",
              "      <td>guanzi/guanzi004.html</td>\n",
              "    </tr>\n",
              "    <tr>\n",
              "      <th>1</th>\n",
              "      <td>3.844266</td>\n",
              "      <td>guanzi/guanzi011.html</td>\n",
              "    </tr>\n",
              "    <tr>\n",
              "      <th>2</th>\n",
              "      <td>3.577029</td>\n",
              "      <td>shuoyuan/shuoyuan017.html</td>\n",
              "    </tr>\n",
              "    <tr>\n",
              "      <th>3</th>\n",
              "      <td>3.264684</td>\n",
              "      <td>zhuangzi/zhuangzi014.html</td>\n",
              "    </tr>\n",
              "    <tr>\n",
              "      <th>4</th>\n",
              "      <td>3.172393</td>\n",
              "      <td>songshi/songshi295.html</td>\n",
              "    </tr>\n",
              "  </tbody>\n",
              "</table>\n",
              "</div>"
            ],
            "text/plain": [
              "       bm25                   document\n",
              "0  4.148233      guanzi/guanzi004.html\n",
              "1  3.844266      guanzi/guanzi011.html\n",
              "2  3.577029  shuoyuan/shuoyuan017.html\n",
              "3  3.264684  zhuangzi/zhuangzi014.html\n",
              "4  3.172393    songshi/songshi295.html"
            ]
          },
          "metadata": {
            "tags": []
          },
          "execution_count": 8
        }
      ]
    },
    {
      "metadata": {
        "id": "m68A-zaMBMQY",
        "colab": {
          "base_uri": "https://localhost:8080/",
          "height": 80
        },
        "outputId": "4261465e-570e-4a1c-a21f-eaebbaaa976d"
      },
      "cell_type": "code",
      "source": [
        "word_freq_df3u[word_freq_df3u['document'] == 'guanzi/guanzi004.html']"
      ],
      "execution_count": null,
      "outputs": [
        {
          "output_type": "execute_result",
          "data": {
            "text/html": [
              "<div>\n",
              "<style scoped>\n",
              "    .dataframe tbody tr th:only-of-type {\n",
              "        vertical-align: middle;\n",
              "    }\n",
              "\n",
              "    .dataframe tbody tr th {\n",
              "        vertical-align: top;\n",
              "    }\n",
              "\n",
              "    .dataframe thead th {\n",
              "        text-align: right;\n",
              "    }\n",
              "</style>\n",
              "<table border=\"1\" class=\"dataframe\">\n",
              "  <thead>\n",
              "    <tr style=\"text-align: right;\">\n",
              "      <th></th>\n",
              "      <th>bm25</th>\n",
              "      <th>document</th>\n",
              "    </tr>\n",
              "  </thead>\n",
              "  <tbody>\n",
              "    <tr>\n",
              "      <th>0</th>\n",
              "      <td>4.148233</td>\n",
              "      <td>guanzi/guanzi004.html</td>\n",
              "    </tr>\n",
              "  </tbody>\n",
              "</table>\n",
              "</div>"
            ],
            "text/plain": [
              "       bm25               document\n",
              "0  4.148233  guanzi/guanzi004.html"
            ]
          },
          "metadata": {
            "tags": []
          },
          "execution_count": 9
        }
      ]
    },
    {
      "metadata": {
        "id": "HB574uwWCaIQ",
        "colab": {
          "base_uri": "https://localhost:8080/",
          "height": 80
        },
        "outputId": "09623cf6-5758-4ebf-ce51-23c5be349228"
      },
      "cell_type": "code",
      "source": [
        "word_freq_df3u[word_freq_df3u['document'] == 'hanfeizi/hanfeizi033.html']"
      ],
      "execution_count": null,
      "outputs": [
        {
          "output_type": "execute_result",
          "data": {
            "text/html": [
              "<div>\n",
              "<style scoped>\n",
              "    .dataframe tbody tr th:only-of-type {\n",
              "        vertical-align: middle;\n",
              "    }\n",
              "\n",
              "    .dataframe tbody tr th {\n",
              "        vertical-align: top;\n",
              "    }\n",
              "\n",
              "    .dataframe thead th {\n",
              "        text-align: right;\n",
              "    }\n",
              "</style>\n",
              "<table border=\"1\" class=\"dataframe\">\n",
              "  <thead>\n",
              "    <tr style=\"text-align: right;\">\n",
              "      <th></th>\n",
              "      <th>bm25</th>\n",
              "      <th>document</th>\n",
              "    </tr>\n",
              "  </thead>\n",
              "  <tbody>\n",
              "    <tr>\n",
              "      <th>170</th>\n",
              "      <td>1.483595</td>\n",
              "      <td>hanfeizi/hanfeizi033.html</td>\n",
              "    </tr>\n",
              "  </tbody>\n",
              "</table>\n",
              "</div>"
            ],
            "text/plain": [
              "         bm25                   document\n",
              "170  1.483595  hanfeizi/hanfeizi033.html"
            ]
          },
          "metadata": {
            "tags": []
          },
          "execution_count": 10
        }
      ]
    },
    {
      "metadata": {
        "id": "JHcAoKeIBmwj",
        "colab": {
          "base_uri": "https://localhost:8080/",
          "height": 34
        },
        "outputId": "29ba4cce-3237-4012-f2ed-c394fe35fdd7"
      },
      "cell_type": "code",
      "source": [
        "1.458261/3.62256"
      ],
      "execution_count": null,
      "outputs": [
        {
          "output_type": "execute_result",
          "data": {
            "text/plain": [
              "0.4025498542467206"
            ]
          },
          "metadata": {
            "tags": []
          },
          "execution_count": 60
        }
      ]
    },
    {
      "metadata": {
        "id": "dTSDVmGcNtwb"
      },
      "cell_type": "markdown",
      "source": [
        "## Relevance\n",
        "The chinesenotes.com software computes the BM25 for individual words and bigrams and then outputs the results to logs when users run the queries. Some results extracted from exported logs are shown here. Exploring the relation between BM25 and relevance with some results from [hbreader.org](http://hbreader.org/)."
      ]
    },
    {
      "metadata": {
        "id": "FE0E0BC9Md5Z",
        "colab": {
          "base_uri": "https://localhost:8080/",
          "height": 462
        },
        "outputId": "6fe92301-e0fd-40e8-f89b-6b7095da2a73"
      },
      "cell_type": "code",
      "source": [
        "import io\n",
        "import urllib.request\n",
        "\n",
        "url = (\"https://raw.githubusercontent.com/alexamies/chinesenotes.com/master/\"\n",
        "       \"python/relevance-hbreader.tsv\")\n",
        "response = urllib.request.urlopen(url)\n",
        "content = response.read()\n",
        "types = {'Corpus': np.object, 'Query': np.object, 'Terms': np.uint32, \n",
        "        'Scoped': np.bool, 'Rank': np.uint32, 'Title': np.object, \n",
        "        'Sim Title': np.uint32, 'Sim Words': np.float32, 'Sim Bigrams': np.float32, \n",
        "        'Bit Vector': np.float32, 'Exact Match': np.uint32, 'Sim Bigrams': np.float32, \n",
        "        'ContainsTerms': np.object, 'Relevant': np.uint32}\n",
        "\n",
        "relevance_df=pd.read_csv(io.StringIO(content.decode('utf-8')), sep='\\t',\n",
        "                           skiprows=(0), header=(0), dtype=types)\n",
        "relevance_df.head()"
      ],
      "execution_count": null,
      "outputs": [
        {
          "output_type": "execute_result",
          "data": {
            "text/html": [
              "<div>\n",
              "<style scoped>\n",
              "    .dataframe tbody tr th:only-of-type {\n",
              "        vertical-align: middle;\n",
              "    }\n",
              "\n",
              "    .dataframe tbody tr th {\n",
              "        vertical-align: top;\n",
              "    }\n",
              "\n",
              "    .dataframe thead th {\n",
              "        text-align: right;\n",
              "    }\n",
              "</style>\n",
              "<table border=\"1\" class=\"dataframe\">\n",
              "  <thead>\n",
              "    <tr style=\"text-align: right;\">\n",
              "      <th></th>\n",
              "      <th>Corpus</th>\n",
              "      <th>Query</th>\n",
              "      <th>Terms</th>\n",
              "      <th>Scoped</th>\n",
              "      <th>Rank</th>\n",
              "      <th>Title</th>\n",
              "      <th>Link</th>\n",
              "      <th>Sim Title</th>\n",
              "      <th>Sim Words</th>\n",
              "      <th>Sim Bigrams</th>\n",
              "      <th>Bit Vector</th>\n",
              "      <th>Exact Match</th>\n",
              "      <th>ContainsTerms</th>\n",
              "      <th>Relevant</th>\n",
              "    </tr>\n",
              "  </thead>\n",
              "  <tbody>\n",
              "    <tr>\n",
              "      <th>0</th>\n",
              "      <td>hbreader.org</td>\n",
              "      <td>一腳印</td>\n",
              "      <td>2</td>\n",
              "      <td>False</td>\n",
              "      <td>1</td>\n",
              "      <td>A Footprint with Every Step  一步一腳印</td>\n",
              "      <td>http://hbreader.org/wenji/miyun_shengming67.html</td>\n",
              "      <td>1</td>\n",
              "      <td>1.000000</td>\n",
              "      <td>1.000000</td>\n",
              "      <td>1.0</td>\n",
              "      <td>1</td>\n",
              "      <td>一腳印</td>\n",
              "      <td>1</td>\n",
              "    </tr>\n",
              "    <tr>\n",
              "      <th>1</th>\n",
              "      <td>hbreader.org</td>\n",
              "      <td>一腳印</td>\n",
              "      <td>2</td>\n",
              "      <td>False</td>\n",
              "      <td>2</td>\n",
              "      <td>Chapter 1: Don't be Lacking - One Step, One Fo...</td>\n",
              "      <td>http://hbreader.org/wenji/wanshi07002.html</td>\n",
              "      <td>1</td>\n",
              "      <td>0.987608</td>\n",
              "      <td>0.968682</td>\n",
              "      <td>1.0</td>\n",
              "      <td>1</td>\n",
              "      <td>一腳印</td>\n",
              "      <td>1</td>\n",
              "    </tr>\n",
              "    <tr>\n",
              "      <th>2</th>\n",
              "      <td>hbreader.org</td>\n",
              "      <td>一腳印</td>\n",
              "      <td>2</td>\n",
              "      <td>False</td>\n",
              "      <td>3</td>\n",
              "      <td>Chapter 3: Unbounded Creativity - Footprints 卷...</td>\n",
              "      <td>http://hbreader.org/wenji/wanshi08066.html</td>\n",
              "      <td>0</td>\n",
              "      <td>0.976419</td>\n",
              "      <td>0.853587</td>\n",
              "      <td>1.0</td>\n",
              "      <td>1</td>\n",
              "      <td>一腳印</td>\n",
              "      <td>1</td>\n",
              "    </tr>\n",
              "    <tr>\n",
              "      <th>3</th>\n",
              "      <td>hbreader.org</td>\n",
              "      <td>一腳印</td>\n",
              "      <td>2</td>\n",
              "      <td>False</td>\n",
              "      <td>4</td>\n",
              "      <td>Chapter 4: The Beauty of Transcendence - Histo...</td>\n",
              "      <td>http://hbreader.org/wenji/wanshi09084.html</td>\n",
              "      <td>0</td>\n",
              "      <td>0.875465</td>\n",
              "      <td>0.570640</td>\n",
              "      <td>1.0</td>\n",
              "      <td>1</td>\n",
              "      <td>一腳印</td>\n",
              "      <td>1</td>\n",
              "    </tr>\n",
              "    <tr>\n",
              "      <th>4</th>\n",
              "      <td>hbreader.org</td>\n",
              "      <td>一腳印</td>\n",
              "      <td>2</td>\n",
              "      <td>False</td>\n",
              "      <td>5</td>\n",
              "      <td>Being Humble 低　頭</td>\n",
              "      <td>http://hbreader.org/wenji/miyun_heziji07.html</td>\n",
              "      <td>0</td>\n",
              "      <td>0.577605</td>\n",
              "      <td>0.591299</td>\n",
              "      <td>1.0</td>\n",
              "      <td>1</td>\n",
              "      <td>一腳印</td>\n",
              "      <td>1</td>\n",
              "    </tr>\n",
              "  </tbody>\n",
              "</table>\n",
              "</div>"
            ],
            "text/plain": [
              "         Corpus Query  Terms  Scoped  Rank  \\\n",
              "0  hbreader.org   一腳印      2   False     1   \n",
              "1  hbreader.org   一腳印      2   False     2   \n",
              "2  hbreader.org   一腳印      2   False     3   \n",
              "3  hbreader.org   一腳印      2   False     4   \n",
              "4  hbreader.org   一腳印      2   False     5   \n",
              "\n",
              "                                               Title  \\\n",
              "0                 A Footprint with Every Step  一步一腳印   \n",
              "1  Chapter 1: Don't be Lacking - One Step, One Fo...   \n",
              "2  Chapter 3: Unbounded Creativity - Footprints 卷...   \n",
              "3  Chapter 4: The Beauty of Transcendence - Histo...   \n",
              "4                                   Being Humble 低　頭   \n",
              "\n",
              "                                               Link  Sim Title  Sim Words  \\\n",
              "0  http://hbreader.org/wenji/miyun_shengming67.html          1   1.000000   \n",
              "1        http://hbreader.org/wenji/wanshi07002.html          1   0.987608   \n",
              "2        http://hbreader.org/wenji/wanshi08066.html          0   0.976419   \n",
              "3        http://hbreader.org/wenji/wanshi09084.html          0   0.875465   \n",
              "4     http://hbreader.org/wenji/miyun_heziji07.html          0   0.577605   \n",
              "\n",
              "   Sim Bigrams  Bit Vector  Exact Match ContainsTerms  Relevant  \n",
              "0     1.000000         1.0            1           一腳印         1  \n",
              "1     0.968682         1.0            1           一腳印         1  \n",
              "2     0.853587         1.0            1           一腳印         1  \n",
              "3     0.570640         1.0            1           一腳印         1  \n",
              "4     0.591299         1.0            1           一腳印         1  "
            ]
          },
          "metadata": {
            "tags": []
          },
          "execution_count": 2
        }
      ]
    },
    {
      "metadata": {
        "id": "S-ED1J6CN19M"
      },
      "cell_type": "code",
      "source": [
        "# Use if you want to load from your own file, otherwise skip this block\n",
        "from google.colab import files\n",
        "\n",
        "uploaded = files.upload()\n",
        "fname = \"\"\n",
        "for fn in uploaded.keys():\n",
        "  print('User uploaded file \"{name}\" with length {length} bytes'.format(\n",
        "      name=fn, length=len(uploaded[fn])))\n",
        "  fname = fn\n",
        "  relevance_df = pd.read_csv(fname,sep='\\t',skiprows=(0),header=(0))\n",
        "relevance_df.head()"
      ],
      "execution_count": null,
      "outputs": []
    },
    {
      "metadata": {
        "id": "kJZsOhDKNbP8",
        "colab": {
          "base_uri": "https://localhost:8080/",
          "height": 297
        },
        "outputId": "19666706-0ba7-43f8-9d90-6df868ad2a13"
      },
      "cell_type": "code",
      "source": [
        "relevance_df.describe()"
      ],
      "execution_count": null,
      "outputs": [
        {
          "output_type": "execute_result",
          "data": {
            "text/html": [
              "<div>\n",
              "<style scoped>\n",
              "    .dataframe tbody tr th:only-of-type {\n",
              "        vertical-align: middle;\n",
              "    }\n",
              "\n",
              "    .dataframe tbody tr th {\n",
              "        vertical-align: top;\n",
              "    }\n",
              "\n",
              "    .dataframe thead th {\n",
              "        text-align: right;\n",
              "    }\n",
              "</style>\n",
              "<table border=\"1\" class=\"dataframe\">\n",
              "  <thead>\n",
              "    <tr style=\"text-align: right;\">\n",
              "      <th></th>\n",
              "      <th>Terms</th>\n",
              "      <th>Rank</th>\n",
              "      <th>Sim Title</th>\n",
              "      <th>Sim Words</th>\n",
              "      <th>Sim Bigrams</th>\n",
              "      <th>Bit Vector</th>\n",
              "      <th>Exact Match</th>\n",
              "      <th>Relevant</th>\n",
              "    </tr>\n",
              "  </thead>\n",
              "  <tbody>\n",
              "    <tr>\n",
              "      <th>count</th>\n",
              "      <td>472.000000</td>\n",
              "      <td>472.000000</td>\n",
              "      <td>472.000000</td>\n",
              "      <td>472.000000</td>\n",
              "      <td>472.000000</td>\n",
              "      <td>472.000000</td>\n",
              "      <td>472.000000</td>\n",
              "      <td>472.000000</td>\n",
              "    </tr>\n",
              "    <tr>\n",
              "      <th>mean</th>\n",
              "      <td>4.080508</td>\n",
              "      <td>20.745763</td>\n",
              "      <td>0.004237</td>\n",
              "      <td>0.769819</td>\n",
              "      <td>0.525633</td>\n",
              "      <td>0.858800</td>\n",
              "      <td>0.211864</td>\n",
              "      <td>0.309322</td>\n",
              "    </tr>\n",
              "    <tr>\n",
              "      <th>std</th>\n",
              "      <td>1.702341</td>\n",
              "      <td>14.369073</td>\n",
              "      <td>0.065025</td>\n",
              "      <td>0.331993</td>\n",
              "      <td>0.200647</td>\n",
              "      <td>0.174934</td>\n",
              "      <td>0.409063</td>\n",
              "      <td>0.462705</td>\n",
              "    </tr>\n",
              "    <tr>\n",
              "      <th>min</th>\n",
              "      <td>2.000000</td>\n",
              "      <td>1.000000</td>\n",
              "      <td>0.000000</td>\n",
              "      <td>0.000000</td>\n",
              "      <td>0.220978</td>\n",
              "      <td>0.000000</td>\n",
              "      <td>0.000000</td>\n",
              "      <td>0.000000</td>\n",
              "    </tr>\n",
              "    <tr>\n",
              "      <th>25%</th>\n",
              "      <td>3.000000</td>\n",
              "      <td>8.000000</td>\n",
              "      <td>0.000000</td>\n",
              "      <td>0.454094</td>\n",
              "      <td>0.357402</td>\n",
              "      <td>0.666700</td>\n",
              "      <td>0.000000</td>\n",
              "      <td>0.000000</td>\n",
              "    </tr>\n",
              "    <tr>\n",
              "      <th>50%</th>\n",
              "      <td>3.000000</td>\n",
              "      <td>18.500000</td>\n",
              "      <td>0.000000</td>\n",
              "      <td>0.801618</td>\n",
              "      <td>0.489030</td>\n",
              "      <td>1.000000</td>\n",
              "      <td>0.000000</td>\n",
              "      <td>0.000000</td>\n",
              "    </tr>\n",
              "    <tr>\n",
              "      <th>75%</th>\n",
              "      <td>5.000000</td>\n",
              "      <td>32.000000</td>\n",
              "      <td>0.000000</td>\n",
              "      <td>1.000000</td>\n",
              "      <td>0.600567</td>\n",
              "      <td>1.000000</td>\n",
              "      <td>0.000000</td>\n",
              "      <td>1.000000</td>\n",
              "    </tr>\n",
              "    <tr>\n",
              "      <th>max</th>\n",
              "      <td>8.000000</td>\n",
              "      <td>50.000000</td>\n",
              "      <td>1.000000</td>\n",
              "      <td>2.093427</td>\n",
              "      <td>1.105218</td>\n",
              "      <td>1.333333</td>\n",
              "      <td>1.000000</td>\n",
              "      <td>1.000000</td>\n",
              "    </tr>\n",
              "  </tbody>\n",
              "</table>\n",
              "</div>"
            ],
            "text/plain": [
              "            Terms        Rank   Sim Title   Sim Words  Sim Bigrams  \\\n",
              "count  472.000000  472.000000  472.000000  472.000000   472.000000   \n",
              "mean     4.080508   20.745763    0.004237    0.769819     0.525633   \n",
              "std      1.702341   14.369073    0.065025    0.331993     0.200647   \n",
              "min      2.000000    1.000000    0.000000    0.000000     0.220978   \n",
              "25%      3.000000    8.000000    0.000000    0.454094     0.357402   \n",
              "50%      3.000000   18.500000    0.000000    0.801618     0.489030   \n",
              "75%      5.000000   32.000000    0.000000    1.000000     0.600567   \n",
              "max      8.000000   50.000000    1.000000    2.093427     1.105218   \n",
              "\n",
              "       Bit Vector  Exact Match    Relevant  \n",
              "count  472.000000   472.000000  472.000000  \n",
              "mean     0.858800     0.211864    0.309322  \n",
              "std      0.174934     0.409063    0.462705  \n",
              "min      0.000000     0.000000    0.000000  \n",
              "25%      0.666700     0.000000    0.000000  \n",
              "50%      1.000000     0.000000    0.000000  \n",
              "75%      1.000000     0.000000    1.000000  \n",
              "max      1.333333     1.000000    1.000000  "
            ]
          },
          "metadata": {
            "tags": []
          },
          "execution_count": 25
        }
      ]
    },
    {
      "metadata": {
        "id": "z6CcO9b2Nh35",
        "colab": {
          "base_uri": "https://localhost:8080/",
          "height": 297
        },
        "outputId": "5f1fafeb-0b43-4b28-abe6-a3dea2613681"
      },
      "cell_type": "code",
      "source": [
        "relevant_df = relevance_df[relevance_df['Relevant'] == 1]\n",
        "relevant_df.describe()"
      ],
      "execution_count": null,
      "outputs": [
        {
          "output_type": "execute_result",
          "data": {
            "text/html": [
              "<div>\n",
              "<style scoped>\n",
              "    .dataframe tbody tr th:only-of-type {\n",
              "        vertical-align: middle;\n",
              "    }\n",
              "\n",
              "    .dataframe tbody tr th {\n",
              "        vertical-align: top;\n",
              "    }\n",
              "\n",
              "    .dataframe thead th {\n",
              "        text-align: right;\n",
              "    }\n",
              "</style>\n",
              "<table border=\"1\" class=\"dataframe\">\n",
              "  <thead>\n",
              "    <tr style=\"text-align: right;\">\n",
              "      <th></th>\n",
              "      <th>Terms</th>\n",
              "      <th>Rank</th>\n",
              "      <th>Sim Title</th>\n",
              "      <th>Sim Words</th>\n",
              "      <th>Sim Bigrams</th>\n",
              "      <th>Bit Vector</th>\n",
              "      <th>Exact Match</th>\n",
              "      <th>Relevant</th>\n",
              "    </tr>\n",
              "  </thead>\n",
              "  <tbody>\n",
              "    <tr>\n",
              "      <th>count</th>\n",
              "      <td>146.000000</td>\n",
              "      <td>146.000000</td>\n",
              "      <td>146.000000</td>\n",
              "      <td>146.000000</td>\n",
              "      <td>146.000000</td>\n",
              "      <td>146.000000</td>\n",
              "      <td>146.000000</td>\n",
              "      <td>146.0</td>\n",
              "    </tr>\n",
              "    <tr>\n",
              "      <th>mean</th>\n",
              "      <td>3.363014</td>\n",
              "      <td>13.390411</td>\n",
              "      <td>0.013699</td>\n",
              "      <td>0.863264</td>\n",
              "      <td>0.640450</td>\n",
              "      <td>0.976598</td>\n",
              "      <td>0.684932</td>\n",
              "      <td>1.0</td>\n",
              "    </tr>\n",
              "    <tr>\n",
              "      <th>std</th>\n",
              "      <td>1.219837</td>\n",
              "      <td>11.001801</td>\n",
              "      <td>0.116637</td>\n",
              "      <td>0.262598</td>\n",
              "      <td>0.219144</td>\n",
              "      <td>0.141402</td>\n",
              "      <td>0.466142</td>\n",
              "      <td>0.0</td>\n",
              "    </tr>\n",
              "    <tr>\n",
              "      <th>min</th>\n",
              "      <td>2.000000</td>\n",
              "      <td>1.000000</td>\n",
              "      <td>0.000000</td>\n",
              "      <td>0.303954</td>\n",
              "      <td>0.230493</td>\n",
              "      <td>0.000000</td>\n",
              "      <td>0.000000</td>\n",
              "      <td>1.0</td>\n",
              "    </tr>\n",
              "    <tr>\n",
              "      <th>25%</th>\n",
              "      <td>3.000000</td>\n",
              "      <td>4.000000</td>\n",
              "      <td>0.000000</td>\n",
              "      <td>0.584592</td>\n",
              "      <td>0.510100</td>\n",
              "      <td>1.000000</td>\n",
              "      <td>0.000000</td>\n",
              "      <td>1.0</td>\n",
              "    </tr>\n",
              "    <tr>\n",
              "      <th>50%</th>\n",
              "      <td>3.000000</td>\n",
              "      <td>10.500000</td>\n",
              "      <td>0.000000</td>\n",
              "      <td>0.974071</td>\n",
              "      <td>0.581663</td>\n",
              "      <td>1.000000</td>\n",
              "      <td>1.000000</td>\n",
              "      <td>1.0</td>\n",
              "    </tr>\n",
              "    <tr>\n",
              "      <th>75%</th>\n",
              "      <td>4.000000</td>\n",
              "      <td>21.000000</td>\n",
              "      <td>0.000000</td>\n",
              "      <td>1.026356</td>\n",
              "      <td>0.800919</td>\n",
              "      <td>1.000000</td>\n",
              "      <td>1.000000</td>\n",
              "      <td>1.0</td>\n",
              "    </tr>\n",
              "    <tr>\n",
              "      <th>max</th>\n",
              "      <td>8.000000</td>\n",
              "      <td>40.000000</td>\n",
              "      <td>1.000000</td>\n",
              "      <td>1.322406</td>\n",
              "      <td>1.000000</td>\n",
              "      <td>1.333333</td>\n",
              "      <td>1.000000</td>\n",
              "      <td>1.0</td>\n",
              "    </tr>\n",
              "  </tbody>\n",
              "</table>\n",
              "</div>"
            ],
            "text/plain": [
              "            Terms        Rank   Sim Title   Sim Words  Sim Bigrams  \\\n",
              "count  146.000000  146.000000  146.000000  146.000000   146.000000   \n",
              "mean     3.363014   13.390411    0.013699    0.863264     0.640450   \n",
              "std      1.219837   11.001801    0.116637    0.262598     0.219144   \n",
              "min      2.000000    1.000000    0.000000    0.303954     0.230493   \n",
              "25%      3.000000    4.000000    0.000000    0.584592     0.510100   \n",
              "50%      3.000000   10.500000    0.000000    0.974071     0.581663   \n",
              "75%      4.000000   21.000000    0.000000    1.026356     0.800919   \n",
              "max      8.000000   40.000000    1.000000    1.322406     1.000000   \n",
              "\n",
              "       Bit Vector  Exact Match  Relevant  \n",
              "count  146.000000   146.000000     146.0  \n",
              "mean     0.976598     0.684932       1.0  \n",
              "std      0.141402     0.466142       0.0  \n",
              "min      0.000000     0.000000       1.0  \n",
              "25%      1.000000     0.000000       1.0  \n",
              "50%      1.000000     1.000000       1.0  \n",
              "75%      1.000000     1.000000       1.0  \n",
              "max      1.333333     1.000000       1.0  "
            ]
          },
          "metadata": {
            "tags": []
          },
          "execution_count": 26
        }
      ]
    },
    {
      "metadata": {
        "id": "_FxzHEKBNoqP",
        "colab": {
          "base_uri": "https://localhost:8080/",
          "height": 297
        },
        "outputId": "8bae23f8-5358-464c-e665-9ab768f73e2d"
      },
      "cell_type": "code",
      "source": [
        "not_relevant_df = relevance_df[relevance_df['Relevant'] == 0]\n",
        "not_relevant_df.describe()"
      ],
      "execution_count": null,
      "outputs": [
        {
          "output_type": "execute_result",
          "data": {
            "text/html": [
              "<div>\n",
              "<style scoped>\n",
              "    .dataframe tbody tr th:only-of-type {\n",
              "        vertical-align: middle;\n",
              "    }\n",
              "\n",
              "    .dataframe tbody tr th {\n",
              "        vertical-align: top;\n",
              "    }\n",
              "\n",
              "    .dataframe thead th {\n",
              "        text-align: right;\n",
              "    }\n",
              "</style>\n",
              "<table border=\"1\" class=\"dataframe\">\n",
              "  <thead>\n",
              "    <tr style=\"text-align: right;\">\n",
              "      <th></th>\n",
              "      <th>Terms</th>\n",
              "      <th>Rank</th>\n",
              "      <th>Sim Title</th>\n",
              "      <th>Sim Words</th>\n",
              "      <th>Sim Bigrams</th>\n",
              "      <th>Bit Vector</th>\n",
              "      <th>Exact Match</th>\n",
              "      <th>Relevant</th>\n",
              "    </tr>\n",
              "  </thead>\n",
              "  <tbody>\n",
              "    <tr>\n",
              "      <th>count</th>\n",
              "      <td>326.000000</td>\n",
              "      <td>326.000000</td>\n",
              "      <td>326.0</td>\n",
              "      <td>326.000000</td>\n",
              "      <td>326.000000</td>\n",
              "      <td>326.000000</td>\n",
              "      <td>326.0</td>\n",
              "      <td>326.0</td>\n",
              "    </tr>\n",
              "    <tr>\n",
              "      <th>mean</th>\n",
              "      <td>4.401840</td>\n",
              "      <td>24.039877</td>\n",
              "      <td>0.0</td>\n",
              "      <td>0.727970</td>\n",
              "      <td>0.474211</td>\n",
              "      <td>0.806043</td>\n",
              "      <td>0.0</td>\n",
              "      <td>0.0</td>\n",
              "    </tr>\n",
              "    <tr>\n",
              "      <th>std</th>\n",
              "      <td>1.789163</td>\n",
              "      <td>14.492489</td>\n",
              "      <td>0.0</td>\n",
              "      <td>0.351124</td>\n",
              "      <td>0.168357</td>\n",
              "      <td>0.162491</td>\n",
              "      <td>0.0</td>\n",
              "      <td>0.0</td>\n",
              "    </tr>\n",
              "    <tr>\n",
              "      <th>min</th>\n",
              "      <td>3.000000</td>\n",
              "      <td>1.000000</td>\n",
              "      <td>0.0</td>\n",
              "      <td>0.000000</td>\n",
              "      <td>0.220978</td>\n",
              "      <td>0.000000</td>\n",
              "      <td>0.0</td>\n",
              "      <td>0.0</td>\n",
              "    </tr>\n",
              "    <tr>\n",
              "      <th>25%</th>\n",
              "      <td>3.000000</td>\n",
              "      <td>11.000000</td>\n",
              "      <td>0.0</td>\n",
              "      <td>0.437217</td>\n",
              "      <td>0.341762</td>\n",
              "      <td>0.666700</td>\n",
              "      <td>0.0</td>\n",
              "      <td>0.0</td>\n",
              "    </tr>\n",
              "    <tr>\n",
              "      <th>50%</th>\n",
              "      <td>4.000000</td>\n",
              "      <td>23.000000</td>\n",
              "      <td>0.0</td>\n",
              "      <td>0.633005</td>\n",
              "      <td>0.461210</td>\n",
              "      <td>0.800000</td>\n",
              "      <td>0.0</td>\n",
              "      <td>0.0</td>\n",
              "    </tr>\n",
              "    <tr>\n",
              "      <th>75%</th>\n",
              "      <td>5.000000</td>\n",
              "      <td>36.000000</td>\n",
              "      <td>0.0</td>\n",
              "      <td>0.980681</td>\n",
              "      <td>0.540238</td>\n",
              "      <td>1.000000</td>\n",
              "      <td>0.0</td>\n",
              "      <td>0.0</td>\n",
              "    </tr>\n",
              "    <tr>\n",
              "      <th>max</th>\n",
              "      <td>8.000000</td>\n",
              "      <td>50.000000</td>\n",
              "      <td>0.0</td>\n",
              "      <td>2.093427</td>\n",
              "      <td>1.105218</td>\n",
              "      <td>1.333333</td>\n",
              "      <td>0.0</td>\n",
              "      <td>0.0</td>\n",
              "    </tr>\n",
              "  </tbody>\n",
              "</table>\n",
              "</div>"
            ],
            "text/plain": [
              "            Terms        Rank  Sim Title   Sim Words  Sim Bigrams  Bit Vector  \\\n",
              "count  326.000000  326.000000      326.0  326.000000   326.000000  326.000000   \n",
              "mean     4.401840   24.039877        0.0    0.727970     0.474211    0.806043   \n",
              "std      1.789163   14.492489        0.0    0.351124     0.168357    0.162491   \n",
              "min      3.000000    1.000000        0.0    0.000000     0.220978    0.000000   \n",
              "25%      3.000000   11.000000        0.0    0.437217     0.341762    0.666700   \n",
              "50%      4.000000   23.000000        0.0    0.633005     0.461210    0.800000   \n",
              "75%      5.000000   36.000000        0.0    0.980681     0.540238    1.000000   \n",
              "max      8.000000   50.000000        0.0    2.093427     1.105218    1.333333   \n",
              "\n",
              "       Exact Match  Relevant  \n",
              "count        326.0     326.0  \n",
              "mean           0.0       0.0  \n",
              "std            0.0       0.0  \n",
              "min            0.0       0.0  \n",
              "25%            0.0       0.0  \n",
              "50%            0.0       0.0  \n",
              "75%            0.0       0.0  \n",
              "max            0.0       0.0  "
            ]
          },
          "metadata": {
            "tags": []
          },
          "execution_count": 27
        }
      ]
    },
    {
      "metadata": {
        "id": "bSpRA_d5PTgG",
        "colab": {
          "base_uri": "https://localhost:8080/",
          "height": 331
        },
        "outputId": "0e3807e1-dbc3-4094-fde2-7be84c8cd991"
      },
      "cell_type": "code",
      "source": [
        "relevant_exact_df = relevant_df[relevance_df['Exact Match'] == 1]\n",
        "relevant_exact_df.describe()"
      ],
      "execution_count": null,
      "outputs": [
        {
          "output_type": "stream",
          "text": [
            "/usr/local/lib/python3.6/dist-packages/ipykernel_launcher.py:1: UserWarning: Boolean Series key will be reindexed to match DataFrame index.\n",
            "  \"\"\"Entry point for launching an IPython kernel.\n"
          ],
          "name": "stderr"
        },
        {
          "output_type": "execute_result",
          "data": {
            "text/html": [
              "<div>\n",
              "<style scoped>\n",
              "    .dataframe tbody tr th:only-of-type {\n",
              "        vertical-align: middle;\n",
              "    }\n",
              "\n",
              "    .dataframe tbody tr th {\n",
              "        vertical-align: top;\n",
              "    }\n",
              "\n",
              "    .dataframe thead th {\n",
              "        text-align: right;\n",
              "    }\n",
              "</style>\n",
              "<table border=\"1\" class=\"dataframe\">\n",
              "  <thead>\n",
              "    <tr style=\"text-align: right;\">\n",
              "      <th></th>\n",
              "      <th>Terms</th>\n",
              "      <th>Rank</th>\n",
              "      <th>Sim Title</th>\n",
              "      <th>Sim Words</th>\n",
              "      <th>Sim Bigrams</th>\n",
              "      <th>Bit Vector</th>\n",
              "      <th>Exact Match</th>\n",
              "      <th>Relevant</th>\n",
              "    </tr>\n",
              "  </thead>\n",
              "  <tbody>\n",
              "    <tr>\n",
              "      <th>count</th>\n",
              "      <td>100.000000</td>\n",
              "      <td>100.000000</td>\n",
              "      <td>100.000000</td>\n",
              "      <td>100.000000</td>\n",
              "      <td>100.000000</td>\n",
              "      <td>100.000000</td>\n",
              "      <td>100.0</td>\n",
              "      <td>100.0</td>\n",
              "    </tr>\n",
              "    <tr>\n",
              "      <th>mean</th>\n",
              "      <td>3.330000</td>\n",
              "      <td>10.090000</td>\n",
              "      <td>0.020000</td>\n",
              "      <td>0.797668</td>\n",
              "      <td>0.692168</td>\n",
              "      <td>0.986667</td>\n",
              "      <td>1.0</td>\n",
              "      <td>1.0</td>\n",
              "    </tr>\n",
              "    <tr>\n",
              "      <th>std</th>\n",
              "      <td>1.348812</td>\n",
              "      <td>9.007399</td>\n",
              "      <td>0.140705</td>\n",
              "      <td>0.265286</td>\n",
              "      <td>0.233853</td>\n",
              "      <td>0.149222</td>\n",
              "      <td>0.0</td>\n",
              "      <td>0.0</td>\n",
              "    </tr>\n",
              "    <tr>\n",
              "      <th>min</th>\n",
              "      <td>2.000000</td>\n",
              "      <td>1.000000</td>\n",
              "      <td>0.000000</td>\n",
              "      <td>0.303954</td>\n",
              "      <td>0.233444</td>\n",
              "      <td>0.000000</td>\n",
              "      <td>1.0</td>\n",
              "      <td>1.0</td>\n",
              "    </tr>\n",
              "    <tr>\n",
              "      <th>25%</th>\n",
              "      <td>2.000000</td>\n",
              "      <td>2.000000</td>\n",
              "      <td>0.000000</td>\n",
              "      <td>0.552387</td>\n",
              "      <td>0.555530</td>\n",
              "      <td>1.000000</td>\n",
              "      <td>1.0</td>\n",
              "      <td>1.0</td>\n",
              "    </tr>\n",
              "    <tr>\n",
              "      <th>50%</th>\n",
              "      <td>3.000000</td>\n",
              "      <td>7.000000</td>\n",
              "      <td>0.000000</td>\n",
              "      <td>0.854413</td>\n",
              "      <td>0.653974</td>\n",
              "      <td>1.000000</td>\n",
              "      <td>1.0</td>\n",
              "      <td>1.0</td>\n",
              "    </tr>\n",
              "    <tr>\n",
              "      <th>75%</th>\n",
              "      <td>4.000000</td>\n",
              "      <td>15.250000</td>\n",
              "      <td>0.000000</td>\n",
              "      <td>1.000000</td>\n",
              "      <td>0.948060</td>\n",
              "      <td>1.000000</td>\n",
              "      <td>1.0</td>\n",
              "      <td>1.0</td>\n",
              "    </tr>\n",
              "    <tr>\n",
              "      <th>max</th>\n",
              "      <td>8.000000</td>\n",
              "      <td>37.000000</td>\n",
              "      <td>1.000000</td>\n",
              "      <td>1.322406</td>\n",
              "      <td>1.000000</td>\n",
              "      <td>1.333333</td>\n",
              "      <td>1.0</td>\n",
              "      <td>1.0</td>\n",
              "    </tr>\n",
              "  </tbody>\n",
              "</table>\n",
              "</div>"
            ],
            "text/plain": [
              "            Terms        Rank   Sim Title   Sim Words  Sim Bigrams  \\\n",
              "count  100.000000  100.000000  100.000000  100.000000   100.000000   \n",
              "mean     3.330000   10.090000    0.020000    0.797668     0.692168   \n",
              "std      1.348812    9.007399    0.140705    0.265286     0.233853   \n",
              "min      2.000000    1.000000    0.000000    0.303954     0.233444   \n",
              "25%      2.000000    2.000000    0.000000    0.552387     0.555530   \n",
              "50%      3.000000    7.000000    0.000000    0.854413     0.653974   \n",
              "75%      4.000000   15.250000    0.000000    1.000000     0.948060   \n",
              "max      8.000000   37.000000    1.000000    1.322406     1.000000   \n",
              "\n",
              "       Bit Vector  Exact Match  Relevant  \n",
              "count  100.000000        100.0     100.0  \n",
              "mean     0.986667          1.0       1.0  \n",
              "std      0.149222          0.0       0.0  \n",
              "min      0.000000          1.0       1.0  \n",
              "25%      1.000000          1.0       1.0  \n",
              "50%      1.000000          1.0       1.0  \n",
              "75%      1.000000          1.0       1.0  \n",
              "max      1.333333          1.0       1.0  "
            ]
          },
          "metadata": {
            "tags": []
          },
          "execution_count": 29
        }
      ]
    },
    {
      "metadata": {
        "id": "puNirNIwPt8G",
        "colab": {
          "base_uri": "https://localhost:8080/",
          "height": 378
        },
        "outputId": "b4f899d1-c6d8-432c-d087-7a8091b81e4c"
      },
      "cell_type": "code",
      "source": [
        "ax = relevant_df.plot.scatter(x = 'Sim Words', y = 'Sim Bigrams', color='Blue', label='Relevant')\n",
        "not_relevant_df.plot.scatter(x = 'Sim Words', y = 'Sim Bigrams', color='Red', label='Not Relevant', ax=ax)"
      ],
      "execution_count": null,
      "outputs": [
        {
          "output_type": "execute_result",
          "data": {
            "text/plain": [
              "<matplotlib.axes._subplots.AxesSubplot at 0x7f06e6d54e10>"
            ]
          },
          "metadata": {
            "tags": []
          },
          "execution_count": 3
        },
        {
          "output_type": "display_data",
          "data": {
            "image/png": "[encoded data removed]",
            "text/plain": [
              "<matplotlib.figure.Figure at 0x7f06e6d22b38>"
            ]
          },
          "metadata": {
            "tags": []
          }
        }
      ]
    },
    {
      "metadata": {
        "id": "fstsg8XPD7rf"
      },
      "cell_type": "markdown",
      "source": [
        "## Prediction of Relevance\n",
        "Training the results using logistic regression (Géron 2017, pp. 136-140). "
      ]
    },
    {
      "metadata": {
        "id": "w4QGlmEPXgGZ"
      },
      "cell_type": "markdown",
      "source": [
        "### Using only BM25 with Bigrams\n",
        "Try with only bigram based BM25 to begin with to see how predicted classifications vary with only one parameter."
      ]
    },
    {
      "metadata": {
        "id": "YtmZqut9RBB2",
        "colab": {
          "base_uri": "https://localhost:8080/",
          "height": 51
        },
        "outputId": "454db167-ee2b-4266-ec55-bf99cede31c1"
      },
      "cell_type": "code",
      "source": [
        "from sklearn.linear_model import LogisticRegression\n",
        "\n",
        "# Train\n",
        "X = relevance_df[\"Sim Bigrams\"]\n",
        "X = X[:, np.newaxis]\n",
        "y = relevance_df[\"Relevant\"]\n",
        "model = LogisticRegression()\n",
        "model.fit(X, y)\n",
        "print(\"Intercept: \", model.intercept_)\n",
        "print(\"Coeficient: \", model.coef_)"
      ],
      "execution_count": null,
      "outputs": [
        {
          "output_type": "stream",
          "text": [
            "Intercept:  [-2.41709632]\n",
            "Coeficient:  [[3.01341748]]\n"
          ],
          "name": "stdout"
        }
      ]
    },
    {
      "metadata": {
        "id": "0MSmGsZSeqx5",
        "colab": {
          "base_uri": "https://localhost:8080/",
          "height": 378
        },
        "outputId": "453279f9-67ff-4e3b-8fd9-793c4c00a655"
      },
      "cell_type": "code",
      "source": [
        "# Plot results\n",
        "X_p = np.linspace(0, 2, 1000).reshape(-1, 1)\n",
        "y_p = model.predict_proba(X_p)\n",
        "fig = plt.figure()\n",
        "ax = fig.add_subplot(1, 1, 1)\n",
        "ax.plot(X_p, y_p[:, 1], \"g-\", label=\"Relevant\")\n",
        "ax.plot(X_p, y_p[:, 0], \"b--\", label=\"Not Relevant\")\n",
        "ax.legend(loc = \"best\")\n",
        "#ax.set_title(\"Predicted Probability with Bigram BM25\")\n",
        "ax.set_xlabel(\"Bigram BM25\")\n",
        "ax.set_ylabel(\"Probability\")"
      ],
      "execution_count": null,
      "outputs": [
        {
          "output_type": "execute_result",
          "data": {
            "text/plain": [
              "Text(0,0.5,'Probability')"
            ]
          },
          "metadata": {
            "tags": []
          },
          "execution_count": 15
        },
        {
          "output_type": "display_data",
          "data": {
            "image/png": "[encoded data removed]",
            "text/plain": [
              "<matplotlib.figure.Figure at 0x7f06e0ac7668>"
            ]
          },
          "metadata": {
            "tags": []
          }
        }
      ]
    },
    {
      "metadata": {
        "id": "aC91C4Eodgtc",
        "colab": {
          "base_uri": "https://localhost:8080/",
          "height": 34
        },
        "outputId": "bf453a00-0eaa-433d-8eda-559601ed1e24"
      },
      "cell_type": "code",
      "source": [
        "# Validate the decision boundary using formula from (Agresti 2013, p. 120)\n",
        "\n",
        "from math import exp\n",
        "\n",
        "a = model.intercept_\n",
        "b = model.coef_[0]\n",
        "x = 0.8\n",
        "pi = exp(a + b * x) / (1 + exp(a + b * x))\n",
        "print(\"Probability: {:3.2f}\".format(pi))"
      ],
      "execution_count": null,
      "outputs": [
        {
          "output_type": "stream",
          "text": [
            "Probability: 0.50\n"
          ],
          "name": "stdout"
        }
      ]
    },
    {
      "metadata": {
        "id": "Y24SSkGmXz-a"
      },
      "cell_type": "markdown",
      "source": [
        "### Prediction with Multiple Vector Space Parameters\n",
        "Train a logistic regression model with relevance data using BM25 for both individual words and bigrams and bit vector dot products for words."
      ]
    },
    {
      "metadata": {
        "id": "oCQguDAXXcbY",
        "colab": {
          "base_uri": "https://localhost:8080/",
          "height": 51
        },
        "outputId": "9226dfa4-9cb9-4023-d8d9-b3e90d5efb93"
      },
      "cell_type": "code",
      "source": [
        "X1 = relevance_df[\"Sim Words\"]\n",
        "X2 = relevance_df[\"Sim Bigrams\"]\n",
        "X3 = relevance_df[\"Bit Vector\"]\n",
        "X = np.array([X1, X2, X3], np.float32)\n",
        "X = np.transpose(X)\n",
        "y = relevance_df[\"Relevant\"]\n",
        "model = LogisticRegression()\n",
        "model.fit(X, y)\n",
        "print(\"Intercept: \", model.intercept_)\n",
        "print(\"Coefficients: \", model.coef_)"
      ],
      "execution_count": null,
      "outputs": [
        {
          "output_type": "stream",
          "text": [
            "Intercept:  [-4.74962488]\n",
            "Coefficients:  [[0.08002782 2.32382776 3.03980071]]\n"
          ],
          "name": "stdout"
        }
      ]
    },
    {
      "metadata": {
        "id": "84J_1DzvZaEK",
        "colab": {
          "base_uri": "https://localhost:8080/",
          "height": 34
        },
        "outputId": "a4f98543-08da-4385-a782-5decd42d5a05"
      },
      "cell_type": "code",
      "source": [
        "X_val = np.array([[1.0, 1.0, 1.0], [0.2, 0.2, 0.2]])\n",
        "y_val = model.predict(X_val)\n",
        "y_val"
      ],
      "execution_count": null,
      "outputs": [
        {
          "output_type": "execute_result",
          "data": {
            "text/plain": [
              "array([1, 0], dtype=uint32)"
            ]
          },
          "metadata": {
            "tags": []
          },
          "execution_count": 21
        }
      ]
    },
    {
      "metadata": {
        "id": "arW2yvS4e-8r",
        "colab": {
          "base_uri": "https://localhost:8080/",
          "height": 51
        },
        "outputId": "47d9099e-0bdc-4502-f99b-e7c17f2b8861"
      },
      "cell_type": "code",
      "source": [
        "p = model.predict_proba(X_val)\n",
        "p"
      ],
      "execution_count": null,
      "outputs": [
        {
          "output_type": "execute_result",
          "data": {
            "text/plain": [
              "array([[0.33313687, 0.66686313],\n",
              "       [0.97493488, 0.02506512]])"
            ]
          },
          "metadata": {
            "tags": []
          },
          "execution_count": 22
        }
      ]
    },
    {
      "metadata": {
        "id": "a5TDWlva8FkG",
        "colab": {
          "base_uri": "https://localhost:8080/",
          "height": 34
        },
        "outputId": "defc500d-7c52-4964-8f55-4fb5d3f29f21"
      },
      "cell_type": "code",
      "source": [
        "# Calculate using multiplication\n",
        "y_v = model.coef_.dot(X_val[0])\n",
        "y_v"
      ],
      "execution_count": null,
      "outputs": [
        {
          "output_type": "execute_result",
          "data": {
            "text/plain": [
              "array([5.44365628])"
            ]
          },
          "metadata": {
            "tags": []
          },
          "execution_count": 22
        }
      ]
    },
    {
      "metadata": {
        "id": "39wmRQITXIlP",
        "colab": {
          "base_uri": "https://localhost:8080/",
          "height": 51
        },
        "outputId": "56505c0d-4dd4-4581-f188-a616187002bb"
      },
      "cell_type": "code",
      "source": [
        "from sklearn.metrics import confusion_matrix\n",
        "\n",
        "y_pred = model.predict(X)\n",
        "confusion_matrix(y, y_pred)"
      ],
      "execution_count": null,
      "outputs": [
        {
          "output_type": "execute_result",
          "data": {
            "text/plain": [
              "array([[303,  23],\n",
              "       [ 99,  47]])"
            ]
          },
          "metadata": {
            "tags": []
          },
          "execution_count": 31
        }
      ]
    },
    {
      "metadata": {
        "id": "mKsRp4qSZ_Z1",
        "colab": {
          "base_uri": "https://localhost:8080/",
          "height": 136
        },
        "outputId": "c7d3802c-1d7a-487f-f5c8-9efbd3a36f92"
      },
      "cell_type": "code",
      "source": [
        "from sklearn.metrics import classification_report\n",
        "\n",
        "target_names = [\"Not relevant\", \"Relevant\"]\n",
        "print(classification_report(y, y_pred, target_names=target_names))"
      ],
      "execution_count": null,
      "outputs": [
        {
          "output_type": "stream",
          "text": [
            "              precision    recall  f1-score   support\n",
            "\n",
            "Not relevant       0.75      0.93      0.83       326\n",
            "    Relevant       0.67      0.32      0.44       146\n",
            "\n",
            " avg / total       0.73      0.74      0.71       472\n",
            "\n"
          ],
          "name": "stdout"
        }
      ]
    },
    {
      "metadata": {
        "id": "3HLlycM-4Ulq"
      },
      "cell_type": "markdown",
      "source": [
        "### Prediction with Word Frequency Parameters\n",
        "Train a logistic regression model with relevance data using BM25 for individual words and bigrams and bit vector dot products for words."
      ]
    },
    {
      "metadata": {
        "id": "RQlVIy5w4sGy",
        "colab": {
          "base_uri": "https://localhost:8080/",
          "height": 51
        },
        "outputId": "9c03a2ce-fd69-4e8a-e018-bafd872eeb4b"
      },
      "cell_type": "code",
      "source": [
        "X1 = relevance_df[\"Sim Words\"]\n",
        "X2 = relevance_df[\"Bit Vector\"]\n",
        "X = np.array([X1, X2], np.float32)\n",
        "X = np.transpose(X)\n",
        "y = relevance_df[\"Relevant\"]\n",
        "model = LogisticRegression()\n",
        "model.fit(X, y)\n",
        "print(\"Intercept: \", model.intercept_)\n",
        "print(\"Coefficients: \", model.coef_)"
      ],
      "execution_count": null,
      "outputs": [
        {
          "output_type": "stream",
          "text": [
            "Intercept:  [-4.0996642]\n",
            "Coefficients:  [[0.20721139 3.60755134]]\n"
          ],
          "name": "stdout"
        }
      ]
    },
    {
      "metadata": {
        "id": "iwu0Y0YL3JHr"
      },
      "cell_type": "markdown",
      "source": [
        "## References\n",
        "1. Agresti, Alan 2013, *Categorical Data Analysis*, John Wiley & Sons.\n",
        "\n",
        "2. Géron, Aurélien 2017, *Hands-On Machine Learning with Scikit-Learn and TensorFlow: Concepts, Tools, and Techniques to Build Intelligent Systems*, Kindle ed., O’Reilly Media, Inc.\n",
        "\n",
        "3. Robertson, Stephen and Hugo Zaragoza 2009, \"The Probabilistic Relevance Framework: BM25 and Beyond\", *Foundations and Trends in Information Retrieval*: Vol. 3: No. 4, pp 333-389. http://dx.doi.org/10.1561/1500000019.\n",
        "\n",
        "4. Zhai, Chengxiang and Sean Massung 2016, *Text Data Management and Analysis: A Practical Introduction to Information Retrieval and Text Mining*, Association for Computing Machinery; Morgan & Claypool.\n"
      ]
    },
    {
      "metadata": {
        "id": "1Y9tbyli3j_Y"
      },
      "cell_type": "code",
      "source": [
        ""
      ],
      "execution_count": null,
      "outputs": []
    }
  ]
}